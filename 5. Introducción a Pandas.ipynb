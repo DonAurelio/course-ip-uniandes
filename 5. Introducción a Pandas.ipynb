{
 "cells": [
  {
   "cell_type": "markdown",
   "id": "8394c8e0-8046-4457-8e72-ff9b08a28906",
   "metadata": {},
   "source": [
    "# Introducción a Pandas\n",
    "\n",
    "**Introducción**\n",
    "\n",
    "Pandas es una librería especializada para el análisis de datos tabulares a gran escala. Pandas abordar todos los pasos involucrados en el análisis de datos: *limpieza de datos*, *procesamiento de datos* y *visualización*. Para inicar el proceso de análisis de datos lo primero que debemos hacer es cargar nuestra información en una estructura de datos de Pandas llamada `DataFrame`. El DataFrame tiene la siguiente estructura.\n",
    "\n",
    "**Pandas DataFrame**\n",
    "\n",
    "* **Columnas:** Cada columna del Dataframe se encuentra identificada con un **encabezado**.\n",
    "* **Filas:** Cada fila del Dataframe se encuentra identificada con una **etiqueta** (o **index label**)\n",
    "* **Datos:** Los datos que no tienen valor son representados con un **NaN** (Non a Number). Los datos pueden ser de cuaquier tipo de dato `string`, `int`, `float`, y `datetime`. La única condición es que todos los datos que pertenecen a una misma columna deben ser del mismo tipo de dato.\n",
    "\n",
    "<img src=\"src/pandas-dataframe.png\" alt=\"DataFrame\">\n",
    "\n",
    "**Pandas Series**\n",
    "\n",
    "Toda la información que corresponde a la misma columna de un Daraframe se conoce como **serie**.\n",
    "\n",
    "<img style=\"display: block; margin-left: auto; margin-right: auto;\" src=\"src/pandas-series.png\" alt=\"Series\">\n",
    "  \n",
    "\n",
    "**Referencias:**\n",
    "\n",
    "1. Guía de usuario https://pandas.pydata.org/pandas-docs/stable/user_guide/index.html\n",
    "2. Documentación https://pandas.pydata.org/docs/\n",
    "\n",
    "**Contenido**\n",
    "\n",
    "1. Importar la librerías\n",
    "2. Construir un dataframe desde una lista de diccionarios\n",
    "3. Construir un dataframe desde un diccionario de listas\n",
    "4. Construir un dataframe desde un diccionario de series\n",
    "5. Construir un dataframe a partir de un archivo CSV\n",
    "6. Visualizar datos de un dataframe\n",
    "7. Ordenar datos de un dataframe\n",
    "8. Exploración de columnas de un dataframe\n",
    "9. Seleccionar datos de un dataframe\n",
    "10. Seleccionar datos de un dataframe en base a expresiones relacionales\n",
    "11. Seleccionar datos de un dataframe en base a expresiones lógicas\n",
    "12. Estadísticas sobre el dataframe\n",
    "13. Agrupar registros de un dataframe por un criterio\n",
    "14. Agrupar registros de un dataframe por un múltiples criterios"
   ]
  },
  {
   "cell_type": "markdown",
   "id": "c13ca6d3-c932-4937-ab36-98b6803be196",
   "metadata": {},
   "source": [
    "## 1. Importar la librerías\n",
    "\n",
    "A continuación se importa la librería `pandas` y se renombra como `pd` ya que esta será usada de forma recurrente en nuestro código."
   ]
  },
  {
   "cell_type": "code",
   "execution_count": null,
   "id": "bb3585f0-dbec-4215-a218-cadfaf7ab54f",
   "metadata": {},
   "outputs": [],
   "source": [
    "import pandas as pd"
   ]
  },
  {
   "cell_type": "markdown",
   "id": "9400f817-6095-495f-83d5-cef7b311ebda",
   "metadata": {},
   "source": [
    "## 2. Construir un dataframe desde una lista de diccionarios"
   ]
  },
  {
   "cell_type": "code",
   "execution_count": null,
   "id": "21e0c376-d8df-4921-ae1c-8b043cf50f3c",
   "metadata": {},
   "outputs": [],
   "source": [
    "# Ejecute el siguiente código\n",
    "\n",
    "# Se define cada diccionario (cada diccionario es un registro)\n",
    "a1 = {\"tiempo\": 9.58, \"atleta\": \"Usain Bolt\", \"pais\": \"Jamaica\", \"fecha\": \"16/08/2009\", \"ciudad\": \"Berlin\"}\n",
    "a2 = {\"tiempo\": 9.58, \"atleta\": \"Usain Bolt\", \"pais\": \"Jamaica\", \"fecha\": \"16/09/2009\", \"ciudad\": \"Beijing\"}\n",
    "a3 = {\"tiempo\": 9.58, \"atleta\": \"Usain Bolt\", \"pais\": \"Jamaica\", \"fecha\": \"31/05/2009\", \"ciudad\": \"New York\"}\n",
    "a4 = {\"tiempo\": 9.58, \"atleta\": \"Asafa Powell\", \"pais\": \"Jamaica\", \"fecha\": \"9/09/2007\", \"ciudad\": \"Rieti\"}\n",
    "a5 = {\"tiempo\": 9.58, \"atleta\": \"Asafa Powell\", \"pais\": \"Jamaica\", \"fecha\": \"18/08/2006\", \"ciudad\": \"Zurich\"}\n",
    "\n",
    "# Se adicionan los diccionarios a una lista (lista de registros)\n",
    "registros = [a1, a2, a3, a4, a5]\n",
    "\n",
    "# Se genera el dataframe desde la lista de registros\n",
    "df_competencias = pd.DataFrame(registros)\n",
    "\n",
    "# Imprimir el dataframe cargado\n",
    "df_competencias"
   ]
  },
  {
   "cell_type": "markdown",
   "id": "0c2d767b-5351-4283-9739-3e105b3fc8dd",
   "metadata": {},
   "source": [
    "##  3. Construir un dataframe desde un diccionario de listas"
   ]
  },
  {
   "cell_type": "code",
   "execution_count": null,
   "id": "a79547fb-5cfe-47f5-8ffd-9f5a7c8dbba2",
   "metadata": {},
   "outputs": [],
   "source": [
    "# Ejecute el siguiente código.\n",
    "\n",
    "# Se definen los registros que irán en cada columna del dataframe\n",
    "tiempos = [9.58, 9.69, 9.72, 9.74, 9.77]\n",
    "atletas = [\"Usain Bolt\", \"Usain Bolt\", \"Usain Bolt\", \"Asafa Powell\", \"Asafa Powell\"]\n",
    "paises  = [\"Jamaica\", \"Jamaica\", \"Jamaica\", \"Jamaica\", \"Jamaica\"]\n",
    "fechas  = [\"16/08/2009\", \"16/09/2008\", \"31/05/2008\", \"9/09/2007\", \"18/08/2006\"]\n",
    "ciudades = [\"Berlin\", \"Beijing\", \"New York\", \"Rieti\", \"Zurich\"]\n",
    "\n",
    "# Se asignan los registros que corresponderán a cada columna a un diccionario \n",
    "# las llaves corresponderán a los nombres de las columnas.\n",
    "datos = {\n",
    "    \"tiempo\": tiempos,\n",
    "    \"atleta\": atletas,\n",
    "    \"pais\": paises,\n",
    "    \"fecha\": fechas,\n",
    "    \"ciudad\": ciudades\n",
    "}\n",
    "\n",
    "# Se construye el dataframe\n",
    "df_competencias = pd.DataFrame(datos) \n",
    "\n",
    "# Imprimir el dataframe\n",
    "df_competencias"
   ]
  },
  {
   "cell_type": "markdown",
   "id": "b71737ef-2574-43a4-9bf0-7dd83f81f2f7",
   "metadata": {},
   "source": [
    "## 4. Construir un dataframe desde un diccionario de series"
   ]
  },
  {
   "cell_type": "code",
   "execution_count": null,
   "id": "8ce22a47-d28e-42c2-acaa-ae8609b67db9",
   "metadata": {},
   "outputs": [],
   "source": [
    "# Ejecute el siguiente código.\n",
    "\n",
    "# Se definen los registros que irán en cada columna del dataframe como series.\n",
    "tiempos = pd.Series([9.58, 9.69, 9.72, 9.74, 9.77])\n",
    "atletas = pd.Series([\"Usain Bolt\", \"Usain Bolt\", \"Usain Bolt\", \"Asafa Powell\", \"Asafa Powell\"])\n",
    "paises  = pd.Series([\"Jamaica\", \"Jamaica\", \"Jamaica\", \"Jamaica\", \"Jamaica\"])\n",
    "fechas  = pd.Series([\"16/08/2009\", \"16/09/2008\", \"31/05/2008\", \"9/09/2007\", \"18/08/2006\"])\n",
    "ciudades = pd.Series([\"Berlin\", \"Beijing\", \"New York\", \"Rieti\", \"Zurich\"])\n",
    "\n",
    "# Se asignan las series que corresponderán a cada columna a un diccionario \n",
    "# las llaves corresponderán a los nombres de las columnas.\n",
    "datos = {\n",
    "    \"tiempo\": tiempos,\n",
    "    \"atleta\": atletas,\n",
    "    \"pais\": paises,\n",
    "    \"fecha\": fechas,\n",
    "    \"ciudad\": ciudades\n",
    "}\n",
    "\n",
    "# Se construye el dataframe\n",
    "df_competencias = pd.DataFrame(datos)\n",
    "\n",
    "# Imprimir el dataframe\n",
    "df_competencias"
   ]
  },
  {
   "cell_type": "markdown",
   "id": "c2974d11-561b-4a0a-bd89-820db39d5a33",
   "metadata": {},
   "source": [
    "## 5. Construir un dataframe a partir de un archivo CSV"
   ]
  },
  {
   "cell_type": "markdown",
   "id": "0dd55e61-e593-4908-940b-a62b595e84da",
   "metadata": {},
   "source": [
    "Para cargar un información de un archivo CSV (Comma Separed Values) en un DataFrame debemos usar la función `read_csv` de la librería pandas. Esta función recibe como parámetros la ruta del archivo a abrir y el caracter `sep` empleado en el archivo CSV para separar los datos.\n",
    "\n",
    "**NOTA:** Observe que una vez creado el dataframe, automaticamente se crea un identificador o **etiqueta** (*index label*) para cada registro. Sin embargo, podemos persoanlizar la etiqueta que queremos asignarle a cada registro."
   ]
  },
  {
   "cell_type": "code",
   "execution_count": null,
   "id": "1f20c14c-62b5-46f1-89dc-82c89f9b31c4",
   "metadata": {},
   "outputs": [],
   "source": [
    "# Ejecute el siguiente código.\n",
    "\n",
    "df_casos_covid = pd.read_csv(\"data/100_casos_covid_colombia.csv\",sep=';')\n",
    "df_casos_covid"
   ]
  },
  {
   "cell_type": "markdown",
   "id": "33c881f0-a1cc-4e81-a777-43274d29887e",
   "metadata": {},
   "source": [
    "A continuación vamos a cargar un dataframe, pero en este caso le vamos a indicar cómo queremos que sean identificados o etiquetados cada uno de los registros. Lo anterior se logra al adiccionar el parámetro `index_col` a la función `read_csv`.\n",
    "\n",
    "```python\n",
    "index_col=\"id_caso\"\n",
    "```\n",
    "\n",
    "**NOTA:** Observe que una vez creado el dataframe, el identificador o etiqueta asignado a cada registro es entonces el identificador del caso `id_caso`."
   ]
  },
  {
   "cell_type": "code",
   "execution_count": null,
   "id": "8e3af1c6-c4e2-4575-b39c-fb4c5a1d574b",
   "metadata": {},
   "outputs": [],
   "source": [
    "# Ejecute el siguiente código.\n",
    "\n",
    "df_casos_covid = pd.read_csv(\"data/100_casos_covid_colombia.csv\", sep=';', index_col=\"id_caso\")\n",
    "df_casos_covid"
   ]
  },
  {
   "cell_type": "markdown",
   "id": "0f16c991-f948-4eda-970b-d32c21af00ba",
   "metadata": {},
   "source": [
    "## 6. Visualizar datos de un dataframe\n",
    "\n",
    "Pandas provee al menos cuatro funciones que permiten visualizar y entender el conjunto de datos que estamos tratando: `head`, `tail`, `info`, y `describe`. A continuación vamos ver como funciona cada una.\n",
    "\n",
    "`head` permite visualizar los primeros registros del dataframe. Podemos especifcar la cantidad de registros que deseams ver."
   ]
  },
  {
   "cell_type": "code",
   "execution_count": null,
   "id": "f3f740f8-253e-401a-82f3-078da854708d",
   "metadata": {},
   "outputs": [],
   "source": [
    "# Ejecute el siguiente código.\n",
    "\n",
    "df_casos_covid = pd.read_csv(\"data/100_casos_covid_colombia.csv\", sep=';', index_col=\"id_caso\")\n",
    "df_casos_covid.head(10)"
   ]
  },
  {
   "cell_type": "markdown",
   "id": "368a5b5c-b84a-4972-9547-207f0af9d1c1",
   "metadata": {},
   "source": [
    "`tail` permite visualizar los últimos registros del dataframe. Podemos especificar la cantidad de registros que deseamos ver."
   ]
  },
  {
   "cell_type": "code",
   "execution_count": null,
   "id": "14433dd4-8a62-4312-a8c8-25ebb3f5db13",
   "metadata": {},
   "outputs": [],
   "source": [
    "# Ejecute el siguiente código.\n",
    "\n",
    "df_casos_covid = pd.read_csv(\"data/100_casos_covid_colombia.csv\", sep=';', index_col=\"id_caso\")\n",
    "df_casos_covid.tail(5)"
   ]
  },
  {
   "cell_type": "markdown",
   "id": "f8d60f52-e95d-4639-8302-fdd815825d1a",
   "metadata": {},
   "source": [
    "`info` permite visualizar la cantidad de registros NO NULOS, y el tipo de dato de cada columna del dataframe. Así mismo indica cuánto espacio ocupa el dataframe en memoria."
   ]
  },
  {
   "cell_type": "code",
   "execution_count": null,
   "id": "6ad72fd3-ad3b-4189-b47b-cb1051ba237a",
   "metadata": {},
   "outputs": [],
   "source": [
    "# Ejecute el siguiente código.\n",
    "\n",
    "df_casos_covid = pd.read_csv(\"data/100_casos_covid_colombia.csv\", sep=';', index_col=\"id_caso\")\n",
    "df_casos_covid.info()"
   ]
  },
  {
   "cell_type": "markdown",
   "id": "38210c9c-a063-4000-a49a-a9f043461ce9",
   "metadata": {},
   "source": [
    "`describe` permite obtener medidas estandar sobre los datos (promedio, máximo valor, mínimo valor, desviación estandar, percentiles). **NOTE:** describe únicamente muestra la descripción de las columnas numéricas."
   ]
  },
  {
   "cell_type": "code",
   "execution_count": null,
   "id": "27359ec2-508e-4c7b-91d8-a1a3931efd73",
   "metadata": {},
   "outputs": [],
   "source": [
    "# Ejecute el siguiente código.\n",
    "\n",
    "df_casos_covid = pd.read_csv(\"data/100_casos_covid_colombia.csv\", sep=';', index_col=\"id_caso\")\n",
    "df_casos_covid.describe()"
   ]
  },
  {
   "cell_type": "markdown",
   "id": "4966756d-e5e0-4726-87ea-78930b3a913a",
   "metadata": {},
   "source": [
    "## 7. Ordenar datos de un dataframe\n",
    "\n",
    "Para ordenar los registros de un dataframe, podemos usar el método `sort_values`. Este método recibe como parámetro el nombre de la columna por la cual se ordenarán los registros del dataframe.\n",
    "\n",
    "```python\n",
    "df_casos_covid.sort_values(by=\"edad\")\n",
    "```"
   ]
  },
  {
   "cell_type": "code",
   "execution_count": null,
   "id": "86af222a-bf6b-456b-a7da-b80814cdb16d",
   "metadata": {},
   "outputs": [],
   "source": [
    "# Ejecute el siguiente código.\n",
    "\n",
    "df_casos_covid = pd.read_csv(\"data/100_casos_covid_colombia.csv\", sep=';', index_col=\"id_caso\")\n",
    "df_casos_ordenados = df_casos_covid.sort_values(by=\"edad\")\n",
    "df_casos_ordenados"
   ]
  },
  {
   "cell_type": "markdown",
   "id": "51888e44-2656-4725-8d3e-76184ae18189",
   "metadata": {},
   "source": [
    "## 8. Exploración de columnas de un dataframe"
   ]
  },
  {
   "cell_type": "code",
   "execution_count": null,
   "id": "be2e494a-e767-4c95-aea8-6299be239d07",
   "metadata": {},
   "outputs": [],
   "source": [
    "# Ejecute el siguiente código.\n",
    "\n",
    "# Cargamos la información de casos de covid\n",
    "df_casos_covid = pd.read_csv(\"data/100_casos_covid_colombia.csv\",sep=';', index_col=\"id_caso\")\n",
    "df_casos_covid[\"nombre_departamento\"].unique()"
   ]
  },
  {
   "cell_type": "code",
   "execution_count": null,
   "id": "6eb4eb20-8876-4ec0-9cc9-f0bcdeee8de7",
   "metadata": {},
   "outputs": [],
   "source": [
    "# Ejecute el siguiente código.\n",
    "\n",
    "# Cargamos la información de casos de covid\n",
    "df_casos_covid = pd.read_csv(\"data/100_casos_covid_colombia.csv\",sep=';', index_col=\"id_caso\")\n",
    "df_casos_covid[\"nombre_departamento\"].value_counts()"
   ]
  },
  {
   "cell_type": "markdown",
   "id": "c0a31cc9-5be6-4914-9741-a09e14dae349",
   "metadata": {},
   "source": [
    "## 9. Seleccionar datos de un dataframe\n",
    "\n",
    "Pandas permite variadas forma de seleccionar datos de un dataframe tanto **por columnas** como **por registros**.\n",
    "\n",
    "**Referencias**\n",
    "\n",
    "1. Selección de datos en pandas https://pandas.pydata.org/docs/user_guide/10min.html#selection"
   ]
  },
  {
   "cell_type": "markdown",
   "id": "e8e141e5-f6dc-4915-9b9f-bba7d147a003",
   "metadata": {},
   "source": [
    "### Seleccionar \"una columna\" `[nombre_columna]`\n",
    "Cuando se seleccionar información de una columna esta selección retorna una **Serie**, recuerde que todos los datos que pertenecen a la misma columna hacen parte de una Serie del dataframe."
   ]
  },
  {
   "cell_type": "code",
   "execution_count": null,
   "id": "9212ebeb-6412-4273-bcbf-f5a938bc60f4",
   "metadata": {},
   "outputs": [],
   "source": [
    "# Ejecute el siguiente código.\n",
    "\n",
    "df_casos_covid = pd.read_csv(\"data/100_casos_covid_colombia.csv\", sep=';', index_col=\"id_caso\")\n",
    "columna_a_selecionar = \"edad\"\n",
    "serie_edad = df_casos_covid[columna_a_selecionar]\n",
    "serie_edad"
   ]
  },
  {
   "cell_type": "markdown",
   "id": "6859f347-46cf-4c60-83d9-5e5c7a45687c",
   "metadata": {},
   "source": [
    "### Seleccionar \"varias columnas\" `[lista_nombres_columnas]` \n",
    "El resultado de seleccionar información de varias columnas será un dataframe que contendrá únicamente la información de la columnas seleccionadas."
   ]
  },
  {
   "cell_type": "code",
   "execution_count": null,
   "id": "8628d920-3312-4c58-999d-4e238b1265c4",
   "metadata": {},
   "outputs": [],
   "source": [
    "# Ejecute el siguiente código.\n",
    "\n",
    "df_casos_covid = pd.read_csv(\"data/100_casos_covid_colombia.csv\", sep=';', index_col=\"id_caso\")\n",
    "columnas_a_seleccionar = [\"edad\",\"sexo\"]\n",
    "df_casos_covid = df_casos_covid[columnas_a_seleccionar]\n",
    "df_casos_covid"
   ]
  },
  {
   "cell_type": "markdown",
   "id": "207d5acc-07b9-4cca-8380-408ce2620a06",
   "metadata": {},
   "source": [
    "### Selecciónar \"un registro\" por etiqueta `.loc[etiqueta]`"
   ]
  },
  {
   "cell_type": "code",
   "execution_count": null,
   "id": "8c08c9a9-9d4b-45e7-aed7-7d28945e7cb7",
   "metadata": {},
   "outputs": [],
   "source": [
    "# Ejecute el siguiente código.\n",
    "df_casos_covid = pd.read_csv(\"data/100_casos_covid_colombia.csv\", sep=';', index_col=\"id_caso\")\n",
    "\n",
    "# 2265685 es el identificador o etiqueta de uno de los registros del dataframe.\n",
    "registro_seleccionado = df_casos_covid.loc[2265685]\n",
    "registro_seleccionado"
   ]
  },
  {
   "cell_type": "markdown",
   "id": "915084b7-a4c5-43a8-b4e6-6c3531ce331b",
   "metadata": {},
   "source": [
    "### Selecciónar \"varios registros\" por etiqueta `.loc[inicio:fin]`"
   ]
  },
  {
   "cell_type": "code",
   "execution_count": null,
   "id": "3a6d3267-ffe8-40d3-9ae3-6c968391e172",
   "metadata": {},
   "outputs": [],
   "source": [
    "# Ejecute el siguiente código.\n",
    "\n",
    "df_casos_covid = pd.read_csv(\"data/100_casos_covid_colombia.csv\", sep=';', index_col=\"id_caso\")\n",
    "\n",
    "# 2265685 y 2265690 son identificadores de registros en el dataframe.\n",
    "registro_seleccionado = df_casos_covid.loc[2265685:2265690]\n",
    "registro_seleccionado"
   ]
  },
  {
   "cell_type": "markdown",
   "id": "db2fc89b-286f-4ec4-a20c-aa691deb5c83",
   "metadata": {},
   "source": [
    "### Seleccionar \"un registro\" posición `iloc[posicion]`"
   ]
  },
  {
   "cell_type": "code",
   "execution_count": null,
   "id": "4450de11-9770-401a-9d41-80de575ebe27",
   "metadata": {},
   "outputs": [],
   "source": [
    "# Ejecute el siguiente código.\n",
    "\n",
    "df_casos_covid = pd.read_csv(\"data/100_casos_covid_colombia.csv\",sep=';', index_col=\"id_caso\")\n",
    "registro_seleccionado = df_casos_covid.iloc[0]\n",
    "registro_seleccionado"
   ]
  },
  {
   "cell_type": "markdown",
   "id": "ca6da5b8-b321-4d0f-959f-62bd94aaab31",
   "metadata": {},
   "source": [
    "### Seleccionar \"varios registros\" posición `iloc[inicio:fin]`"
   ]
  },
  {
   "cell_type": "code",
   "execution_count": null,
   "id": "106d0bc7-1d75-43ea-99b2-6bbb17ee9df5",
   "metadata": {},
   "outputs": [],
   "source": [
    "# Ejecute el siguiente código.\n",
    "\n",
    "df_casos_covid = pd.read_csv(\"data/100_casos_covid_colombia.csv\",sep=';', index_col=\"id_caso\")\n",
    "registro_seleccionado = df_casos_covid.iloc[25:30]\n",
    "registro_seleccionado"
   ]
  },
  {
   "cell_type": "markdown",
   "id": "4af4c79f-7d47-4ae7-87a2-9858abc301da",
   "metadata": {},
   "source": [
    "## 10. Seleccionar datos de un dataframe en base a expresiones relacionales\n",
    "\n",
    "Recuerdan los operadores relacionales `==`, `>`, `<`, `>=`, `<=`, `!=`. Los dataframes de pandas permiten el uso de estos peradores para la selección o filtrado de información en base a una condición. Considere el siguinete dataframe de casos de covid."
   ]
  },
  {
   "cell_type": "markdown",
   "id": "b6cb97c0-3e6c-402d-b001-b128cebd4b90",
   "metadata": {},
   "source": [
    "### Selección del número de casos que han ocurrido en menores de edad"
   ]
  },
  {
   "cell_type": "code",
   "execution_count": null,
   "id": "a17516a8-5e2a-4611-95e6-f52c43ca4c88",
   "metadata": {},
   "outputs": [],
   "source": [
    "# Ejecute el siguiente código.\n",
    "\n",
    "# Cargamos la información de casos de covid\n",
    "df_casos_covid = pd.read_csv(\"data/100_casos_covid_colombia.csv\",sep=';', index_col=\"id_caso\")\n",
    "\n",
    "# Valide los registros de casos de covid cuya edad sea menor de 18.\n",
    "condicion = df_casos_covid[\"edad\"] < 18\n",
    "\n",
    "# Aplico la condición sobre el dataframe para seleccionar los registros que cumplen la condición\n",
    "df_casos_menores_de_edad = df_casos_covid[condicion]\n",
    "df_casos_menores_de_edad"
   ]
  },
  {
   "cell_type": "markdown",
   "id": "9ce3a470-5b54-416e-9c94-5de47514ec81",
   "metadata": {},
   "source": [
    "### Selección del número de casos que han ocurrido en personas de sexo femenino"
   ]
  },
  {
   "cell_type": "code",
   "execution_count": null,
   "id": "e229f544-20c1-4b91-b4c2-4afab94529cb",
   "metadata": {},
   "outputs": [],
   "source": [
    "# Ejecute el siguiente código.\n",
    "\n",
    "# Cargamos la información de casos de covid\n",
    "df_casos_covid = pd.read_csv(\"data/100_casos_covid_colombia.csv\",sep=';', index_col=\"id_caso\")\n",
    "\n",
    "# Valide los registros de casos de covid cuyo sexo sea igual a F.\n",
    "condicion = df_casos_covid[\"sexo\"] == \"F\"\n",
    "\n",
    "# Aplico la condición sobre el dataframe para seleccionar los registros que cumplen la condición\n",
    "df_casos_menores_de_edad = df_casos_covid[condicion]\n",
    "df_casos_menores_de_edad"
   ]
  },
  {
   "cell_type": "markdown",
   "id": "ceb56e92-a1ae-4f29-9f33-eff8c0e9636a",
   "metadata": {},
   "source": [
    "## 11. Seleccionar datos de un dataframe en base a expresiones lógicas\n",
    "\n",
    "Recuerdan que las expresiones lógicas son la composición de expresiones relacionales. Para conformar expresiones lógica necesitamos los operadores lógicos `and` y `òr`. En Pandas, estos operadores se representan de forma distinta, esta representación se muestra a continuación.\n",
    "\n",
    "* `and`: `&` (ampersand)\n",
    "* `or`: `|` (barra vertical)\n",
    "\n",
    "Usando los operadores lógicos podemos construir expresiones lógicas como la siguiente:\n",
    "\n",
    "```python\n",
    "condicion = (df_casos_covid[\"sexo\"] == \"F\") & (df_casos_covid[\"nombre_departamento\"] == \"BOGOTA\")\n",
    "```\n",
    "\n",
    "La condición lógica anterior valida los registros cuyo sexo sea Fenemino y el departamento sea BOGOTA. **NOTA:** Los parentesis son importantes "
   ]
  },
  {
   "cell_type": "code",
   "execution_count": null,
   "id": "f9f8f692-28cb-4fce-aea9-ebee4af8ba90",
   "metadata": {},
   "outputs": [],
   "source": [
    "# Ejecute el siguiente código.\n",
    "\n",
    "# Cargamos la información de casos de covid\n",
    "df_casos_covid = pd.read_csv(\"data/100_casos_covid_colombia.csv\",sep=';', index_col=\"id_caso\")\n",
    "\n",
    "# Valide los registros de casos de covid cuyo sexo sea igual a F.\n",
    "condicion = (df_casos_covid[\"sexo\"] == \"F\") & (df_casos_covid[\"nombre_departamento\"] == \"BOGOTA\")\n",
    "\n",
    "# Aplico la condición sobre el dataframe para seleccionar los registros que cumplen la condición\n",
    "df_casos_que_cumplen_condicion = df_casos_covid[condicion]\n",
    "df_casos_que_cumplen_condicion"
   ]
  },
  {
   "cell_type": "markdown",
   "id": "df82a20f-70c9-4f67-93a0-c6b07736cbaa",
   "metadata": {},
   "source": [
    "### Seleccionar datos en base al método `isin([lista])` y valores de interés categoricos\n",
    "\n",
    "El método `isin` permite generar una condición que nos permite validar si los valores de una columna se encuentran en **lista de valores de interés**. En base a esto podemos obtener los registros cuya columna tenga al menos uno de los valores de la lista de valores de interés."
   ]
  },
  {
   "cell_type": "code",
   "execution_count": null,
   "id": "700b54ec-d4bb-4d67-9594-ad5a8e803929",
   "metadata": {},
   "outputs": [],
   "source": [
    "# Ejecute el siguiente código.\n",
    "\n",
    "# Cargamos la información de casos de covid\n",
    "df_casos_covid = pd.read_csv(\"data/100_casos_covid_colombia.csv\",sep=';', index_col=\"id_caso\")\n",
    "\n",
    "condicion = df_casos_covid[\"nombre_departamento\"].isin([\"BOGOTA\",\"VALLE\"])\n",
    "\n",
    "df_casos_que_cumplen_condicion = df_casos_covid[condicion]\n",
    "df_casos_que_cumplen_condicion"
   ]
  },
  {
   "cell_type": "markdown",
   "id": "86649ad3-5f21-40ed-9a0b-d891381289d9",
   "metadata": {},
   "source": [
    "### Seleccionar datos en base al método `isin([lista])` y valores de interés numéricos"
   ]
  },
  {
   "cell_type": "code",
   "execution_count": null,
   "id": "b0facb7f-6f84-498f-b3aa-fb5c53c858c1",
   "metadata": {},
   "outputs": [],
   "source": [
    "# Ejecute el siguiente código.\n",
    "\n",
    "# Cargamos la información de casos de covid\n",
    "df_casos_covid = pd.read_csv(\"data/100_casos_covid_colombia.csv\",sep=';', index_col=\"id_caso\")\n",
    "\n",
    "condicion = df_casos_covid[\"edad\"].isin([17,20])\n",
    "\n",
    "df_casos_que_cumplen_condicion = df_casos_covid[condicion]\n",
    "df_casos_que_cumplen_condicion"
   ]
  },
  {
   "cell_type": "markdown",
   "id": "7e42db62-2701-466c-8993-bd36115dcc41",
   "metadata": {},
   "source": [
    "## 12. Estadísticas sobre el dataframe\n",
    "\n",
    "Los dataframes de Pandas cuenta con método estadisticos que permiten la reducción de los datos a lo largo del `axis-0` o a lo largo del `axis-1`. Estas operaciones estadísticas se muestran en la siguiente tabla.\n",
    "\n",
    "| Operador | Descripción            | Ejemplo 1  |    Ejemplo 2    | \n",
    "|----------|------------------------|------------|-----------------|\n",
    "| mean     | Promedio               | df.mean()  | df.mean(axis=0) |\n",
    "| std      | Desvisación estándar   | df.std()   | df.std(axis=0)  |\n",
    "| sum      | Suma                   | df.sum()   | df.sum(axis=0)  |\n",
    "| max      | Máximo                 | df.max()   | df.max(axis=0)  |\n",
    "| min      | Mínimo                 | df.min()   | df.min(axis=0)  |\n",
    "\n",
    "Recuerde que:\n",
    "\n",
    "<img style=\"display: block; margin-left: auto; margin-right: auto;\" src=\"src/estadisticas_sobre_dataframe.png\" alt=\"Series\">"
   ]
  },
  {
   "cell_type": "markdown",
   "id": "c97fe47f-176e-45b4-9c3c-759a9bf9cbe6",
   "metadata": {},
   "source": [
    "## Calcular el máximo valor por columna del dataframe `df.max()`"
   ]
  },
  {
   "cell_type": "code",
   "execution_count": null,
   "id": "a5b5876a-abd4-484e-9ce4-dda648ac862a",
   "metadata": {},
   "outputs": [],
   "source": [
    "# Ejecute el siguiente código.\n",
    "\n",
    "# Cargamos la información de casos de covid\n",
    "df_casos_covid = pd.read_csv(\"data/100_casos_covid_colombia.csv\",sep=';', index_col=\"id_caso\")\n",
    "\n",
    "# El máximo únicamente se piede calcular sobre columnas numéricas.\n",
    "columnas = ['fecha_notificacion','edad','fecha_inicio_sintomas']\n",
    "df_casos_covid[columnas].max()"
   ]
  },
  {
   "cell_type": "markdown",
   "id": "1f70af85-0804-43c2-b8c0-4d1272b740df",
   "metadata": {},
   "source": [
    "## Calcular el máximo valor a lo largo del `axis-0` del dataframe `df.max(axis=0)`"
   ]
  },
  {
   "cell_type": "code",
   "execution_count": null,
   "id": "f65b4317-96c7-49a4-b628-fe02bd31b5e8",
   "metadata": {},
   "outputs": [],
   "source": [
    "# Ejecute el siguiente código.\n",
    "\n",
    "# Cargamos la información de casos de covid\n",
    "df_casos_covid = pd.read_csv(\"data/100_casos_covid_colombia.csv\",sep=';', index_col=\"id_caso\")\n",
    "\n",
    "# El máximo únicamente se piede calcular sobre columnas numéricas.\n",
    "columnas = ['fecha_notificacion','edad','fecha_inicio_sintomas']\n",
    "df_casos_covid[columnas].max(axis=0)"
   ]
  },
  {
   "cell_type": "markdown",
   "id": "26915c22-ffaf-42bf-9ba1-adcaaf475a97",
   "metadata": {},
   "source": [
    "## Calcular el máximo valor a lo largo del `axis-1` del dataframe `df.max(axis=1)`"
   ]
  },
  {
   "cell_type": "code",
   "execution_count": null,
   "id": "2173371b-5018-48fe-9aef-ddd219857adc",
   "metadata": {},
   "outputs": [],
   "source": [
    "# Ejecute el siguiente código.\n",
    "\n",
    "# Cargamos la información de casos de covid\n",
    "df_casos_covid = pd.read_csv(\"data/100_casos_covid_colombia.csv\",sep=';', index_col=\"id_caso\")\n",
    "\n",
    "# El máximo únicamente se piede calcular sobre columnas numéricas.\n",
    "# Los tipos de datos deben ser comparables en este caso (fechas con fechas, etc)\n",
    "columnas = ['fecha_notificacion','fecha_inicio_sintomas']\n",
    "df_casos_covid[columnas].max(axis=1)"
   ]
  },
  {
   "cell_type": "markdown",
   "id": "9843e38a-e2d6-4c7f-be33-aab58518643a",
   "metadata": {},
   "source": [
    "## 13. Agrupar registros de un dataframe por un criterio\n",
    "\n",
    "El método `groupby` nos permite agrupar los registros de un dataframe para los valores de una columna determinada. En el ejemplo del dataframe que representa los casos de covid, si agrupamos los registros por `sexo`, el grupo resultante tendra dos grupos; los registros cuyo sexo es `\"F\"` y los registros cuyo sexo es `\"M\"`. La función `groupby` retorna una `DataFrameGroupby`.\n",
    "\n",
    "```python\n",
    "df_grupos_por_sexo = df_casos_covid.groupby(\"sexo\")\n",
    "```"
   ]
  },
  {
   "cell_type": "code",
   "execution_count": null,
   "id": "28f048ca-cac7-4031-ab5d-6ee917cd8a15",
   "metadata": {},
   "outputs": [],
   "source": [
    "# Ejecute el siguiente código.\n",
    "\n",
    "# Cargamos la información de casos de covid\n",
    "df_casos_covid = pd.read_csv(\"data/100_casos_covid_colombia.csv\",sep=';', index_col=\"id_caso\")\n",
    "\n",
    "df_por_sexo = df_casos_covid.groupby(\"sexo\")\n",
    "df_por_sexo"
   ]
  },
  {
   "cell_type": "markdown",
   "id": "18e92e0b-9b60-4ee1-ae0c-41f0c604c299",
   "metadata": {},
   "source": [
    "### Visualizar los grupos creados"
   ]
  },
  {
   "cell_type": "code",
   "execution_count": null,
   "id": "1949bc5e-b9ad-4268-abc9-1b87d290e9c7",
   "metadata": {},
   "outputs": [],
   "source": [
    "# Ejecute el siguiente código.\n",
    "\n",
    "# Cargamos la información de casos de covid\n",
    "df_casos_covid = pd.read_csv(\"data/100_casos_covid_colombia.csv\",sep=';', index_col=\"id_caso\")\n",
    "\n",
    "df_por_sexo = df_casos_covid.groupby(\"sexo\")\n",
    "\n",
    "for nombre, grupo in df_por_sexo:\n",
    "    print(nombre, len(grupo), type(grupo))"
   ]
  },
  {
   "cell_type": "markdown",
   "id": "bba9f9fa-e529-40d4-9ab7-24bb5d73cbe9",
   "metadata": {},
   "source": [
    "### Seleccionar un grupo del DataFrameGroupBy\n",
    "\n",
    "Para seleccionar un grupo del DataFrameGroupBy debemos usar el método `get_group` como se muestra a continuación. Esta función retorna un DataFrame."
   ]
  },
  {
   "cell_type": "code",
   "execution_count": null,
   "id": "b0b45679-9e33-44ba-8cd6-1b5cc8ee6251",
   "metadata": {},
   "outputs": [],
   "source": [
    "# Ejecute el siguiente código.\n",
    "\n",
    "# Cargamos la información de casos de covid\n",
    "df_casos_covid = pd.read_csv(\"data/100_casos_covid_colombia.csv\",sep=';', index_col=\"id_caso\")\n",
    "\n",
    "df_por_sexo = df_casos_covid.groupby(\"sexo\")\n",
    "df_grupo_femenino = df_por_sexo.get_group(\"F\")\n",
    "df_grupo_femenino"
   ]
  },
  {
   "cell_type": "markdown",
   "id": "8d685323-0472-4535-85f2-188526db22d3",
   "metadata": {},
   "source": [
    "## 14. Agrupar registros de un dataframe por un múltiples criterios\n",
    "\n",
    "El método `groupby` nos permite agrupar los registros de un dataframe para los valores de dos columnas. En el ejemplo del dataframe que representa los casos de covid, si agrupamos los registros por `sexo` y `nombre_departamento`, el grupo resultante tendra 2 x 32 grupos. \n",
    "\n",
    "```python\n",
    "df_grupos_por_sexo = df_casos_covid.groupby([\"sexo\",\"nombre_departamento\"])\n",
    "```"
   ]
  },
  {
   "cell_type": "code",
   "execution_count": null,
   "id": "caaa2992-4dbf-4e75-83e9-14c2d0e633c4",
   "metadata": {},
   "outputs": [],
   "source": [
    "# Ejecute el siguiente código.\n",
    "\n",
    "# Cargamos la información de casos de covid\n",
    "df_casos_covid = pd.read_csv(\"data/100_casos_covid_colombia.csv\",sep=';', index_col=\"id_caso\")\n",
    "\n",
    "df_por_sexo_y_depto = df_casos_covid.groupby([\"sexo\",\"nombre_departamento\"])\n",
    "df_por_sexo_y_depto"
   ]
  },
  {
   "cell_type": "markdown",
   "id": "f04b00f0-a259-4717-ba53-ccb15885da89",
   "metadata": {},
   "source": [
    "### Visualizar los grupos creados"
   ]
  },
  {
   "cell_type": "code",
   "execution_count": null,
   "id": "01af63ca-a6a1-49d6-8a1c-6766bda8cb34",
   "metadata": {},
   "outputs": [],
   "source": [
    "# Ejecute el siguiente código.\n",
    "\n",
    "# Cargamos la información de casos de covid\n",
    "df_casos_covid = pd.read_csv(\"data/100_casos_covid_colombia.csv\",sep=';', index_col=\"id_caso\")\n",
    "\n",
    "df_por_sexo_y_depto = df_casos_covid.groupby([\"sexo\",\"nombre_departamento\"])\n",
    "\n",
    "for nombre, grupo in df_por_sexo_y_depto:\n",
    "    print(nombre, len(grupo), type(grupo))"
   ]
  },
  {
   "cell_type": "markdown",
   "id": "a9406968-d273-4838-be4f-c26d8e775987",
   "metadata": {},
   "source": [
    "## Reto\n",
    "\n",
    "Considere el conjunto de datos de casos de covid. Realice una figura de tres ejes, un ejemplo de la figura se muestra acontinuación. Para esto debe usar la librería Pandas y la librería Matplotlib.\n",
    "\n",
    "![image.png](https://raw.githubusercontent.com/DonAurelio/intro-programming-course/main/nivel_4/resources/figura_multi_eje.png)\n",
    "\n",
    "* **Eje 0.** Diagrama de barras que muestre el número de casos de covid por departamento.\n",
    "* **Eje 1.** Diagrama de barras que compare el número total de casos de covid en mujeres versus hombres.\n",
    "* **Eje 2.** Diagrama de barras que muestre el número de casos por edad."
   ]
  }
 ],
 "metadata": {
  "kernelspec": {
   "display_name": "Python 3 (ipykernel)",
   "language": "python",
   "name": "python3"
  },
  "language_info": {
   "codemirror_mode": {
    "name": "ipython",
    "version": 3
   },
   "file_extension": ".py",
   "mimetype": "text/x-python",
   "name": "python",
   "nbconvert_exporter": "python",
   "pygments_lexer": "ipython3",
   "version": "3.11.5"
  }
 },
 "nbformat": 4,
 "nbformat_minor": 5
}
