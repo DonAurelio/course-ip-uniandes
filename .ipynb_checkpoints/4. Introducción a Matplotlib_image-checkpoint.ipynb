{
 "cells": [
  {
   "cell_type": "markdown",
   "id": "12bf7cf2-8d5b-43fd-9594-0b68eabca307",
   "metadata": {},
   "source": [
    "# Introducción a Matplotlib (image)\n",
    "\n",
    "**Introducción**\n",
    "\n",
    "Matplotlib es una librería (o módulo) para el lenguaje de programación Python que facilita la creación y manipulación de **gráficas** e **imagenes**. Esta librería cuenta principalmente con dos submódulos `pyplot` y `image`. El primer submódulo tiene funciones que facilitan el proceso de creación y manipulación de gráficas. El segundo cuenta con funciones que facilitan el procesamiento de imágenes. En esta ocasión nos enfocarémos en el módulo de creación y manipulación de imágenes.\n",
    "\n",
    "Dado que la librería cuenta con más de 100 funciones para la manipulación de gráficas e imágenes, los desarrolladores tienden a apreder lo básico y hacer uso de forma frecuente de la documentación, ejemplos y tutoriales para la construcción de gráficas y manipulación de imagenes que requieren aspectos avanzados. A continuación se presentan los enlaces de la documentación, ejemplos y tutoriales.\n",
    "\n",
    "**Referencias:**\n",
    "\n",
    "1. Ejemplos https://matplotlib.org/stable/gallery/index.html\n",
    "2. Tutoriales https://matplotlib.org/stable/tutorials/index\n",
    "3. Documentación https://matplotlib.org/stable/api/index.html\n",
    "\n",
    "**Contenido**\n",
    "\n",
    "1. [Importar la librerías](#1.-Importar-la-librerías)\n",
    "2. [Qué es una imagen en Python](#2.-Qué-es-una-imagen-en-Python)\n",
    "    * [Actividad 1](#Actividad-1)\n",
    "3. [Cargar una imagen del computador](#3.-Cargar-una-imagen-del-computador)\n",
    "4. [Obtener dimensiones de la imagen](#4.-Obtener-dimensiones-de-la-imagen)\n",
    "5. [Obtener el valor de un pixel](#5.-Obtener-el-valor-de-un-pixel)\n",
    "    * [Actividad 2](#Actividad-2)\n",
    "6. [Cortar una imagen](#6.-Cortar-una-imagen)\n",
    "7. [Convertir imagen a escala de grises ](#7.-Convertir-imagen-a-escala-de-grises)\n",
    "8. [Pintar marcadores en la imagen](#8.-Pintar-marcadores-en-la-imagen)\n",
    "    *  [Actividad 3](#Actividad-3) \n",
    "9. [Pintar una leyenda en la imagen](#9.-Pintar-una-leyenda-en-la-imagen)\n",
    "    * [Actividad 4](#Actividad-4)"
   ]
  },
  {
   "cell_type": "markdown",
   "id": "d49ff107-a6e1-45a0-92d0-b0b5e3122e7c",
   "metadata": {},
   "source": [
    "## 1. Importar la librerías\n",
    "\n",
    "La librería `matplotlib` cuenta con un submódulo para proceamiento de imagenes llamado `image`, éste módulo nos permitirá cargar una imagen de nuestro computador y realizar algunas operaciones sobre nuestra imagen. \n",
    "\n",
    "Por otro lado, también se requiere importar el súbmódulo `pyplot` que nos permitirá entre otras cosas imprimir la imagen que hemos cargado en pantalla."
   ]
  },
  {
   "cell_type": "code",
   "execution_count": null,
   "id": "aa1d9968-73d9-4001-89e1-6186629e8b6c",
   "metadata": {},
   "outputs": [],
   "source": [
    "import matplotlib.pyplot as plt\n",
    "import matplotlib.image as mpimg\n",
    "import matplotlib.patches as mpatches\n",
    "import numpy as np"
   ]
  },
  {
   "cell_type": "markdown",
   "id": "2ae1afa1-4dda-4a71-9c14-82925a229522",
   "metadata": {},
   "source": [
    "## 2. Qué es una imagen en Python\n",
    "\n",
    "En Python podemos representar imagenes como matrices de dos dimensiones donde cada elemento de la matriz es una lista con tres elementos. En la lista de tres elementos, cada elemento representa la intensidad de color en los canales de color RGB (Red, Green, Blue). \n",
    "\n",
    "```python\n",
    "imagen = [\n",
    "    [ [52, 255,1], [51, 83, 255], [90, 25, 0] ],\n",
    "    [ [95, 77, 0], [100,100,100], [255,76, 2] ],\n",
    "    [ [125,125,0], [0,  0,  0  ], [52, 84, 0] ]    \n",
    "]\n",
    "```\n",
    "\n",
    "En este ejemplo, si tomamos el primer elemento de la matriz `[52, 255,1]`, `52` representa la cantidad de color en el canal `Rojo`, `255` representa la cantidad de color en el canal `Verde` y `1` representa la cantidad de color en el canal `Azul` para dicho pixel de la imagen. De manera simplificada, esto se puede entender como si tuvieramos tres valdes, uno de color rojo, uno de color verde, y uno de color azúl. Al combinar cierta cantidad de cada color, podemos obtener como resultado nuevos colores. Ahora la cantidad que se puede agregar de cada color puede variar entre 0 y 255."
   ]
  },
  {
   "cell_type": "markdown",
   "id": "e8607e65-689a-496a-a870-1d5d3ac0baa3",
   "metadata": {},
   "source": [
    "El siguiente código muestra una imagen representada en forma de matriz. Esta matriz es pintada en pantalla usando la función `imshow` (image show) de la librería `matplotlib.pyplot`."
   ]
  },
  {
   "cell_type": "code",
   "execution_count": null,
   "id": "a346924c-6ddd-4848-beb9-ed2f21434440",
   "metadata": {},
   "outputs": [],
   "source": [
    "# Ejecute el siguiente código\n",
    "\n",
    "imagen = [\n",
    "    [ [52, 255,1], [51, 83, 255], [90, 25, 0] ],\n",
    "    [ [95, 77, 0], [100,100,100], [255,76, 2] ],\n",
    "    [ [125,125,0], [0,  0,  0  ], [52, 84, 0] ]    \n",
    "]\n",
    "\n",
    "plt.imshow(imagen)"
   ]
  },
  {
   "cell_type": "markdown",
   "id": "fe092f54-72ed-4cf1-bfbe-4433178bd66a",
   "metadata": {},
   "source": [
    "## Actividad 1\n",
    "Considere el código anterior y desarrolle una nueva versión a continuación. Cambie los valores de la matriz anterior e imprima la imagen resultante en pantalla"
   ]
  },
  {
   "cell_type": "code",
   "execution_count": null,
   "id": "c1cd5fa7-3e16-4e3d-a4a7-c57cba8e0602",
   "metadata": {},
   "outputs": [],
   "source": [
    "# Desarrolle la actividad aquí..."
   ]
  },
  {
   "cell_type": "markdown",
   "id": "625d1877-38ef-4426-8cfb-a6aa86603559",
   "metadata": {},
   "source": [
    "## 3. Cargar una imagen del computador\n",
    "\n",
    "La función `mpimg.imread` nos permite cargar una imagen de nuestro computador. Esta función recibe la ruta donde se encuentra la imagen y retorna un `array` (de la librería Numpy) de dos dimensiones, donde cada elemento del array es un array de tres elementos.\n",
    "\n",
    "**NOTA:** Recuerde que los Numpy array son diferentes a las listas de Python. Los arrays son objetos matemáticos y las listas estructuras de datos."
   ]
  },
  {
   "cell_type": "code",
   "execution_count": null,
   "id": "c2b757c2-1caf-424c-bad1-416b051896b8",
   "metadata": {},
   "outputs": [],
   "source": [
    "# Ejecute el siguiente código.\n",
    "\n",
    "# Cargar imagen en un array de Numpy\n",
    "imagen = mpimg.imread(\"data/animal.jpg\")\n",
    "\n",
    "# Pintar imagen\n",
    "plt.imshow(imagen)"
   ]
  },
  {
   "cell_type": "markdown",
   "id": "421be792-26bf-4bbc-af75-9009f58ac3ea",
   "metadata": {},
   "source": [
    "## 4. Obtener dimensiones de la imagen\n",
    "\n",
    "Para obtener las dimensiones de la imágen, debemos acceder al atributo `shape` como se muestra a continuación."
   ]
  },
  {
   "cell_type": "code",
   "execution_count": null,
   "id": "c4aae124-b5e1-4e05-8f1b-27ff044a4a81",
   "metadata": {},
   "outputs": [],
   "source": [
    "# Ejecute el siguiente código.\n",
    "\n",
    "# Cargar imagen en un array de Numpy\n",
    "imagen = mpimg.imread(\"data/animal.jpg\")\n",
    "\n",
    "# Pintar imagen\n",
    "dimensiones = imagen.shape\n",
    "print(\"Dimensiones de la imagen\", dimensiones)"
   ]
  },
  {
   "cell_type": "markdown",
   "id": "053723e0-5846-4c7e-a832-61d434dfccd8",
   "metadata": {},
   "source": [
    "## 5. Obtener el valor de un pixel\n",
    "\n",
    "\n",
    "Dado que nuestra imagen es un array de dos dimensiones de Numpy, lo único que debemos hacer es indexar la posicioón deseada como se muestra a continuación.\n",
    "\n",
    "```python\n",
    "pixel = imagen[150,325]\n",
    "```\n",
    "\n",
    "**NOTA:** Recuerde que la forma de indexar arrays de Numpy es completamente diferentes a la forma en que se indexan las listas de Python."
   ]
  },
  {
   "cell_type": "code",
   "execution_count": null,
   "id": "a3d5f788-236c-4804-a0cb-642f84db4099",
   "metadata": {},
   "outputs": [],
   "source": [
    "# Ejecute el siguiente código.\n",
    "\n",
    "# Cargar imagen en un array de Numpy\n",
    "imagen = mpimg.imread(\"data/animal.jpg\")\n",
    "\n",
    "# Obtenemos el valor del píxel ubicado en la pisición 150, 350 que \n",
    "# corresponde al pico del Tucán.\n",
    "pixel = imagen[150,325]\n",
    "\n",
    "# Pintamos la información del píxel.\n",
    "plt.imshow(np.array([[ pixel ]]))"
   ]
  },
  {
   "cell_type": "markdown",
   "id": "2aa34a9c-e5fe-4163-9634-011cecc26a5d",
   "metadata": {},
   "source": [
    "## Actividad 2\n",
    "\n",
    "Considere los ejemplos de las Secciones 3, 4 y 5. Desarrolle las siguientes actividades\n",
    "\n",
    "1. Descarge una imagen de internet y carge la imagen en Python. \n",
    "2. Imprima la imagen en consola  \n",
    "3. Imprima las dimensiones de la imágen en consola \n",
    "4. Imprima un pixel de la imagen."
   ]
  },
  {
   "cell_type": "code",
   "execution_count": null,
   "id": "34fbcf85-d86b-439f-b38d-f3c259dad809",
   "metadata": {},
   "outputs": [],
   "source": [
    "# Desarrolle la actividad aquí..."
   ]
  },
  {
   "cell_type": "markdown",
   "id": "18687aa4-c63b-4950-bf13-cf133e7c420b",
   "metadata": {},
   "source": [
    "## 6. Cortar una imagen\n",
    "\n",
    "Para cortar una imagen, debemos usar el operador de indexación. Este operador nos permite establecer rangos de corte en cada dimensión del `array`. En este caso en particular, cortamos desde la posición 50 hasta la posición 400 en la primera dimensión, es decir el `axis-0`. Luego cortamos desde la posición 50 hasta la posición 400 de la segunda dimensión, es decir el `axis-1`.\n",
    "\n",
    "```python\n",
    "imagen_cortada = imagen[50:400,50:400]\n",
    "```"
   ]
  },
  {
   "cell_type": "code",
   "execution_count": null,
   "id": "4cd285fd-034f-4f80-96ba-58fd4599ce26",
   "metadata": {},
   "outputs": [],
   "source": [
    "# Ejecute el siguiente código.\n",
    "\n",
    "# Cargar imagen en un array de Numpy\n",
    "imagen = mpimg.imread(\"data/animal.jpg\")\n",
    "\n",
    "# Cortamos la imagen al establecer una rango de valores para el eje 0\n",
    "# y otro rango de valores para el eje 1.\n",
    "imagen_cortada = imagen[50:400,50:400]\n",
    "\n",
    "# Pintamos la información del píxel.\n",
    "plt.imshow(imagen_cortada)"
   ]
  },
  {
   "cell_type": "markdown",
   "id": "7ed4a174-d621-467f-9292-21ab5133447b",
   "metadata": {},
   "source": [
    "## 7. Convertir imagen a escala de grises \n",
    "\n",
    "La función `imshow` ademas de pintar la imagen representada en una matriz, permite hacer transformaciones a la imagen que se pintará en pantalla. Una de esas transformaciones es el cambio en la escala de colores. Para cambiar la escala de colores de la imagen, debemos usar el parámetro cmap de la función imshow como se muestra a contrinuación.\n",
    "\n",
    "```python\n",
    "plt.imshow(imagen[:,:,0], cmap='gray', vmin=0, vmax=255)\n",
    "```\n",
    "\n",
    "En este caso le estoy indicando a imshow que pinte la imagen usando una escala de grises. Además del `gris` podemos identificar otras escalas de colores como `viridis`, `plasma`, `inferno`, `magma`, `cividis`. En las siguientes referencias encontrará el listado de mapas de colores soportado por la función imshow. Así mismo podrá encontrar un enlace con otras funcionalidades interesantes que provee la función.\n",
    "\n",
    "**Referencias**\n",
    "\n",
    "1. Documentación de la función `imshow` https://matplotlib.org/3.5.0/api/_as_gen/matplotlib.pyplot.imshow.html\n",
    "2. Listados de `cmaps` (color maps ó mapa de colores) https://matplotlib.org/3.5.0/tutorials/colors/colormaps.html"
   ]
  },
  {
   "cell_type": "code",
   "execution_count": null,
   "id": "f883f418-65b1-439f-bda9-64f44ea751d5",
   "metadata": {},
   "outputs": [],
   "source": [
    "# Ejecute el siguiente código.\n",
    "\n",
    "# Cargar imagen en un array de Numpy\n",
    "imagen = mpimg.imread(\"data/animal.jpg\")\n",
    "\n",
    "plt.imshow(imagen[:,:,0], cmap='gray', vmin=0, vmax=255)"
   ]
  },
  {
   "cell_type": "markdown",
   "id": "d71c2b4f-bfae-4384-b179-738267f2ce9b",
   "metadata": {},
   "source": [
    "## 8. Pintar marcadores en la imagen\n",
    "\n",
    "Los marcadores nos permiten señalar uno o varios puntos de una imagen con el fin de indicar al usuario alguna carcaterística particular que para nosotros es relevante que este note. Un marcador puede tener distntas formas, por ejemplo un punto, un triangulo, un cuadrado, entre otras formas.\n",
    "\n",
    "El siguiente código muestra cómo podemos pintar marcadores en la imagen del Tucan especificando las coordenadas donde se pintarán los marcadores, el tipo de marcador `marker` y el tamaño del marcador `markersize`.\n",
    "\n",
    "```python\n",
    "plt.plot(200, 200, marker='o', color=\"darkorange\", markersize=20)\n",
    "```\n",
    "\n",
    "**Referencias**\n",
    "\n",
    "1. Tipos de marcadores https://matplotlib.org/stable/api/markers_api.html\n",
    "2. Lista de colores para marcadores https://matplotlib.org/stable/gallery/color/named_colors.html "
   ]
  },
  {
   "cell_type": "code",
   "execution_count": null,
   "id": "830e3513-1d4b-4de2-9979-c46116835b73",
   "metadata": {},
   "outputs": [],
   "source": [
    "# Ejecute el siguiente código.\n",
    "\n",
    "# Cargar imagen en un array de Numpy\n",
    "imagen = mpimg.imread(\"data/animal.jpg\")\n",
    "\n",
    "# Pintar imagen\n",
    "plt.imshow(imagen)\n",
    "\n",
    "# Pintamos dos marcadores sobre la imagen, uno en el pecho del Tucan \n",
    "# y otro en el pico.\n",
    "plt.plot(200, 200, marker='o', color=\"darkorange\", markersize=20)\n",
    "plt.plot(300, 140, marker='p', color=\"tab:blue\", markersize=20)"
   ]
  },
  {
   "cell_type": "markdown",
   "id": "04604bb3-098b-47b6-b0a7-eaf2f66dd380",
   "metadata": {},
   "source": [
    "## Actividad 3\n",
    "\n",
    "Considere el ejemplo anterior, Sección 8.\n",
    "\n",
    "Además de los marcadores pintados en el Tucán, pinte un nuevo marcador en forma de cuadrado. Este marcador debe quedar ubicado en una de las patas del Tucán."
   ]
  },
  {
   "cell_type": "code",
   "execution_count": null,
   "id": "6d5ef8dc-0021-4de9-9f0e-07939c08d610",
   "metadata": {},
   "outputs": [],
   "source": [
    "# Desarrolle la actividad aquí..."
   ]
  },
  {
   "cell_type": "markdown",
   "id": "f3807cbe-7c8b-4f11-9873-a20e6e8cafd4",
   "metadata": {},
   "source": [
    "## 9. Pintar una leyenda en la imagen\n",
    "\n",
    "Para pintar una leyenda en la imagen, necesitamos usar el módulo `matplotlib.patches`. Este módulo fue importado al princio y renombrado como `mpatches`. De modo que vamos a hacer uso de este módulo para generar dos leyendas en la imágen del Tucán, como se muestran a continuación.\n",
    "Cada leyenda tiene un color y una etiqueta.\n",
    "\n",
    "```python\n",
    "leyenda_1 = mpatches.Patch(color=\"darkorange\",label=\"Pecho del tucán\")\n",
    "leyenda_2 = mpatches.Patch(color=\"tab:blue\",label=\"Pico del tucán\")\n",
    "```"
   ]
  },
  {
   "cell_type": "code",
   "execution_count": null,
   "id": "3b1a5384-94a4-4a00-bbe4-d440766c1ea1",
   "metadata": {},
   "outputs": [],
   "source": [
    "# Ejecute el siguiente código.\n",
    "\n",
    "# Cargar imagen en un array de Numpy\n",
    "imagen = mpimg.imread(\"data/animal.jpg\")\n",
    "\n",
    "# Pintar imagen\n",
    "plt.imshow(imagen)\n",
    "\n",
    "# Pintamos dos marcadores sobre la imagen, uno en el pecho del Tucan \n",
    "# y otro en el pico.\n",
    "plt.plot(200, 200, marker='o', color=\"darkorange\", markersize=20)\n",
    "plt.plot(300, 140, marker='p', color=\"tab:blue\", markersize=20)\n",
    "\n",
    "# Generamos las leyendas, cada leyenda tiene un color y una etiqueta.\n",
    "leyenda_1 = mpatches.Patch(color=\"darkorange\",label=\"Pecho del tucán\")\n",
    "leyenda_2 = mpatches.Patch(color=\"tab:blue\",label=\"Pico del tucán\")\n",
    "\n",
    "# Ingresamos las leyendas en una lista\n",
    "patches = [ leyenda_1, leyenda_2 ]\n",
    "\n",
    "# Usamos la función \"legend\" para pintar la leyenda\n",
    "plt.legend(handles=patches,loc=1)"
   ]
  },
  {
   "cell_type": "markdown",
   "id": "b0b3dd73-6d7a-44d7-b6fd-c9bf009f660f",
   "metadata": {},
   "source": [
    "## Actividad 4 \n",
    "\n",
    "Considere el ejemplo anterior, Sección 9.\n",
    "\n",
    "Además de las leyendas pintadas en la imagen, pinte una nueva leyenda, asigne un color y un texto de leyenda de su preferencia."
   ]
  },
  {
   "cell_type": "code",
   "execution_count": null,
   "id": "99f92a7a-0645-4544-88ae-29cec564af9a",
   "metadata": {},
   "outputs": [],
   "source": [
    "# Desarrolle la actividad aquí.."
   ]
  }
 ],
 "metadata": {
  "kernelspec": {
   "display_name": "Python 3 (ipykernel)",
   "language": "python",
   "name": "python3"
  },
  "language_info": {
   "codemirror_mode": {
    "name": "ipython",
    "version": 3
   },
   "file_extension": ".py",
   "mimetype": "text/x-python",
   "name": "python",
   "nbconvert_exporter": "python",
   "pygments_lexer": "ipython3",
   "version": "3.11.5"
  }
 },
 "nbformat": 4,
 "nbformat_minor": 5
}
