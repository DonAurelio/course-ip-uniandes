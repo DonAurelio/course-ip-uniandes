{
 "cells": [
  {
   "cell_type": "markdown",
   "id": "992d26a3-3906-4ae6-b02b-58f650864024",
   "metadata": {},
   "source": [
    "# Introducción a Visualización de Datos con Pandas\n",
    "\n",
    "**Introducción**\n",
    "\n",
    "Pandas es una librería especializada para el análisis de datos tabulares a gran escala. Pandas permite abordar los tres pasos considerados para el análisis de datos: **limpieza de datos**, **procesamiento de datos** y **visualización**. En el presente tutorial, vamos a cargar la información de datos de covid por dia para colombia en un DataFrame y vamos a generar visualizaciones estadístias a partir de estos datos. \n",
    "\n",
    "**Referencias:**\n",
    "\n",
    "1. Guía de usuario https://pandas.pydata.org/docs/user_guide/visualization.html\n",
    "\n",
    "**Contenido**\n",
    "\n",
    "1. Importar la librerías\n",
    "2. Construir un dataframe a partir de un archivo CSV\n",
    "3. Explorar el dataframe antes de generar las gráficas\n",
    "4. Graficar a partir de una Serie o un DataFrame\n",
    "5. Graficar un histograma\n",
    "6. Graficar un diagrama de barras\n",
    "7. Graficar un diagrama de cajas"
   ]
  },
  {
   "cell_type": "markdown",
   "id": "a858dede-52f0-4396-96a2-09a663c322b5",
   "metadata": {},
   "source": [
    "## 1. Importar la librerías\n",
    "\n",
    "A continuación se importa la librería `pandas` y se renombra como `pd` ya que esta será usada de forma recurrente en nuestro código.\n",
    "\n",
    "Así mismo importamos la librería `matplotlib.pyplot`, `pyplot` nos permite establecer el estilo de nuestras gráfias a travez del método `style.use`."
   ]
  },
  {
   "cell_type": "code",
   "execution_count": null,
   "id": "85702a26-d769-4e98-b76a-2e1e761c2153",
   "metadata": {},
   "outputs": [],
   "source": [
    "import pandas as pd\n",
    "import matplotlib.pyplot as plt \n",
    "plt.style.use('seaborn-v0_8-notebook')"
   ]
  },
  {
   "cell_type": "markdown",
   "id": "3eb663c0-7351-40eb-ab5e-e17b91d34bd6",
   "metadata": {},
   "source": [
    "Pasa ver la lista de estilos disonibles ejecute el siguiente código."
   ]
  },
  {
   "cell_type": "code",
   "execution_count": null,
   "id": "88964316-d6b2-483b-b725-a04963c17d67",
   "metadata": {},
   "outputs": [],
   "source": [
    "print(plt.style.available)"
   ]
  },
  {
   "cell_type": "markdown",
   "id": "3f5b3df5-2e0e-4923-a652-31fe5e644225",
   "metadata": {},
   "source": [
    "## 2. Construir un dataframe a partir de un archivo CSV\n",
    "\n",
    "Para cargar información de un archivo CSV (Comma Separed Values) en un DataFrame debemos usar la función `read_csv` de la librería pandas. Esta función recibe como parámetros la ruta del archivo a abrir y el caracter `sep` empleado en el archivo CSV para separar los datos.\n",
    "\n",
    "**NOTA:** Observe que una vez creado el dataframe, automaticamente se crea un identificador o **etiqueta** (*index label*) para cada registro. Sin embargo, podemos personalizar la etiqueta que queremos asignarle a cada registro usando el parámetro `index_col`.\n"
   ]
  },
  {
   "cell_type": "code",
   "execution_count": null,
   "id": "e04dd46b-14fd-4a7e-a6a3-d61ab1749834",
   "metadata": {},
   "outputs": [],
   "source": [
    "# Ejecute el siguiente código.\n",
    "\n",
    "df_casos_covid = pd.read_csv(\"data/casos_covid_por_dia_colombia.csv\",sep=';')\n",
    "df_casos_covid"
   ]
  },
  {
   "cell_type": "markdown",
   "id": "dafb4dd4-992d-45fe-b775-5b03f47c74cf",
   "metadata": {},
   "source": [
    "## 3. Explorar el dataframe antes de generar las gráficas\n",
    "\n",
    "Pandas provee al menos cuatro funciones que permiten visualizar y entender el conjunto de datos que estamos tratando: `head`, `tail`, `info`, y `describe`. A continuación vamos ver como funciona cada una.\n",
    "\n",
    "`head` permite visualizar los primeros registros del dataframe. Podemos especifcar la cantidad de registros que deseams ver."
   ]
  },
  {
   "cell_type": "code",
   "execution_count": null,
   "id": "e18d9446-d3ca-48bb-8b02-9dbe429fed3c",
   "metadata": {},
   "outputs": [],
   "source": [
    "# Ejecute el siguiente código.\n",
    "\n",
    "df_casos_covid = pd.read_csv(\"data/casos_covid_por_dia_colombia.csv\",sep=';')\n",
    "df_casos_covid.head(10)"
   ]
  },
  {
   "cell_type": "markdown",
   "id": "1b3665ec-f8b8-4233-9a05-574b8466fc95",
   "metadata": {},
   "source": [
    "`tail` permite visualizar los últimos registros del dataframe. Podemos especificar la cantidad de registros que deseamos ver."
   ]
  },
  {
   "cell_type": "code",
   "execution_count": null,
   "id": "332f4b0b-1c05-421b-8ddf-a5822d0ae711",
   "metadata": {},
   "outputs": [],
   "source": [
    "# Ejecute el siguiente código.\n",
    "\n",
    "df_casos_covid = pd.read_csv(\"data/casos_covid_por_dia_colombia.csv\",sep=';')\n",
    "df_casos_covid.tail(10)"
   ]
  },
  {
   "cell_type": "markdown",
   "id": "87a52b79-5223-40ee-89be-0adef813e6be",
   "metadata": {},
   "source": [
    "`info` permite visualizar la cantidad de registros NO NULOS, y el tipo de dato de cada columna del dataframe. Así mismo indica cuánto espacio ocupa el dataframe en memoria."
   ]
  },
  {
   "cell_type": "code",
   "execution_count": null,
   "id": "430e1c64-84c7-4ce3-a4f2-9bb0cf0954b6",
   "metadata": {},
   "outputs": [],
   "source": [
    "# Ejecute el siguiente código.\n",
    "\n",
    "df_casos_covid = pd.read_csv(\"data/casos_covid_por_dia_colombia.csv\",sep=';')\n",
    "df_casos_covid.info(10)"
   ]
  },
  {
   "cell_type": "markdown",
   "id": "3b1aa03d-1de8-4c2c-a251-7499b53e6d3a",
   "metadata": {},
   "source": [
    "`describe` permite obtener medidas estandar sobre los datos (promedio, máximo valor, mínimo valor, desviación estandar, percentiles). **NOTE:** describe únicamente muestra la descripción de las columnas numéricas."
   ]
  },
  {
   "cell_type": "code",
   "execution_count": null,
   "id": "1d7f39ff-ce87-4394-b5e2-485ec873dec9",
   "metadata": {},
   "outputs": [],
   "source": [
    "# Ejecute el siguiente código.\n",
    "\n",
    "df_casos_covid = pd.read_csv(\"data/casos_covid_por_dia_colombia.csv\",sep=';')\n",
    "df_casos_covid.describe()"
   ]
  },
  {
   "cell_type": "markdown",
   "id": "b2620746-cd57-4157-afe7-4f2be838bf7b",
   "metadata": {},
   "source": [
    "## 4. Graficar a partir de una Serie o un DataFrame\n",
    "\n",
    "Tanto `Series` como `DataFrames` en Pandas usan el método `plot` para crear graficas a partir de la información contenida en la serie o el dataframe. Los tipos de gráficas soportados por el método `plot` se muestran en la Tabla al final de esta sección. \n",
    "\n",
    "Pandas permite graficar de dos formas.\n",
    "\n",
    "1. Usando el método `plot`\n",
    "\n",
    "```python\n",
    "serie.plot(kind=\"line\",...)\n",
    "```\n",
    "\n",
    "```python\n",
    "df.plot(kind=\"line\",...)\n",
    "```\n",
    "\n",
    "2. Usando los métodos `.plot.line`, `.plot.bar`, `.plot.barh`, `.plot.hist`, `.plot.box`, `.plot.kde`, `.plot.density`, `.plot.area`, `.plot.pie`, `.plot.scatter`, o `.plot.hexbin`.\n",
    "\n",
    "```python\n",
    "serie.plot.line(...)\n",
    "```\n",
    "\n",
    "```python\n",
    "df.plot.line(...)\n",
    "```\n",
    "\n",
    "**IMPORTANTE:** Algunas gráficas requieren que los datos se encuentren de organizados cierta forma para poder graficarlos correctamente, en este caso debemos realizar algunos procesamientos ya sea en el dataframe o en la serie.\n",
    "\n",
    "Es muy importante consultar la documentación de cáda tipo de gráfico para conocer cómo usarlo apropiadamente.\n",
    "\n",
    "| Tipo    | Serie/DataFrame | Descripción                                      | Documentación                                                                   |\n",
    "|---------|-----------------|--------------------------------------------------|---------------------------------------------------------------------------------|\n",
    "| line    | Ambos           | Gráfico de linea                                 | https://pandas.pydata.org/docs/reference/api/pandas.DataFrame.plot.line.html    |\n",
    "| bar     | Ambos           | Diagrama de barras vertical                      | https://pandas.pydata.org/docs/reference/api/pandas.DataFrame.plot.bar.html     |\n",
    "| barh    | Ambos           | Diagrama de barras horizontal                    | https://pandas.pydata.org/docs/reference/api/pandas.DataFrame.plot.barh.html    |\n",
    "| hist    | Ambos           | Histograma                                       | https://pandas.pydata.org/docs/reference/api/pandas.DataFrame.plot.hist.html    |\n",
    "| box     | Ambos           | Diagrama de caja                                 | https://pandas.pydata.org/docs/reference/api/pandas.DataFrame.plot.box.html     |\n",
    "| kde     | Ambos           | Diagrama de estimación de la densidad del kernel | https://pandas.pydata.org/docs/reference/api/pandas.DataFrame.plot.kde.html     |\n",
    "| density | Ambos           | Diagrama de estimación de la densidad del kernel | https://pandas.pydata.org/docs/reference/api/pandas.DataFrame.plot.density.html |\n",
    "| area    | Ambos           | Diagrama de área                                 | https://pandas.pydata.org/docs/reference/api/pandas.DataFrame.plot.area.html    |\n",
    "| pie     | Ambos           | Diagrama de torta                                | https://pandas.pydata.org/docs/reference/api/pandas.DataFrame.plot.pie.html     |\n",
    "| scatter | DataFrame       | Diagrama de dispersión                           | https://pandas.pydata.org/docs/reference/api/pandas.DataFrame.plot.scatter.html |\n",
    "| hexbin  | DataFrame       | Diagrama de binning hexagonal                    | https://pandas.pydata.org/docs/reference/api/pandas.DataFrame.plot.hexbin.html  |\n"
   ]
  },
  {
   "cell_type": "markdown",
   "id": "bb35d5c0-ab06-4b2f-b8d9-4d249443491d",
   "metadata": {},
   "source": [
    "## 5. Graficar un histograma\n",
    "\n",
    "Un histograma permite visualizar la frecuencia con la que ocurre cada valor (o un rango de valores) del conjunto de datos. El histograma recibe como parametros: \n",
    "\n",
    "* El tamaño de la figura `figsize`, \n",
    "* Límites en el eje x `xlim`, \n",
    "* Límites en el eje y `ylim`, \n",
    "* El número de rangos `bins`, \n",
    "* El título de la gáfica `title`\n",
    "* Otros parámetros que puede ver en la [documentación](\thttps://pandas.pydata.org/docs/reference/api/pandas.DataFrame.plot.hist.html). \n",
    "\n",
    "A continuación se muestra un ejemplo de cómo generar un histograma usando `plot` o `plot.hist`. Con ambos métodos se obtiene el mismo resultado.\n",
    "\n",
    "Usando el método `plot`.\n",
    "\n",
    "```python \n",
    "ax = serie.plot(kind=\"hist\", figsize=(10,4),xlim=(2,30), ylim=(0, 70), bins=20, title=\"Título\")\n",
    "ax = serie.plot(kind=\"hist\", figsize=(10,4),xlim=(2,30), ylim=(0, 70), bins=20, title=\"Título\")\n",
    "```\n",
    "Usando el método `plot.hist`.\n",
    "\n",
    "```python \n",
    "axs = df.plot.hist(figsize=(10,4),xlim=(2,30), ylim=(0, 70), bins=20, title=\"Título\")\n",
    "axs = df.plot.hist(figsize=(10,4),xlim=(2,30), ylim=(0, 70), bins=20, title=\"Título\")\n",
    "```"
   ]
  },
  {
   "cell_type": "markdown",
   "id": "433e86c3-d520-4410-b901-a2240b9e2a80",
   "metadata": {},
   "source": [
    "### Graficar un historgrama a partir de una serie\n",
    "\n",
    "Para graficar un historgrama a partir de una serie primero debemos obtener la serie de interes del dataframe. En este caso no interesa graficar la serie (columna) `new_cases`."
   ]
  },
  {
   "cell_type": "code",
   "execution_count": null,
   "id": "642041a6-ff8d-4856-92d8-109d8f209297",
   "metadata": {},
   "outputs": [],
   "source": [
    "# Ejecute el siguiente código.\n",
    "\n",
    "df_casos_covid = pd.read_csv(\"data/casos_covid_por_dia_colombia.csv\",sep=';')\n",
    "serie_nro_casos_por_dia = df_casos_covid[\"new_cases\"]\n",
    "serie_nro_casos_por_dia"
   ]
  },
  {
   "cell_type": "markdown",
   "id": "7a4d8391-8981-436a-a217-20fd290f0aa6",
   "metadata": {},
   "source": [
    "Una vez tenemos la serie, podemos usar cualquier método `plot(kind=\"hist\",...)` o `plot.hist` para pintar el historgrama. El método pintará la figura en pantalla y retornará el **eje de coordenadas** donde pintó la gráfica `ax`. El **eje de coordenadas** puede ser usados posteriormente para personalizar la gráfica, por ejemplo: asignar una etiqueta al eje-x, o al eje-y; cambiar el rango de los ejes; entre otros. "
   ]
  },
  {
   "cell_type": "code",
   "execution_count": null,
   "id": "811024eb-acb0-452a-9bb9-4d575a3f2c86",
   "metadata": {},
   "outputs": [],
   "source": [
    "# Ejecute el siguiente código.\n",
    "\n",
    "df_casos_covid = pd.read_csv(\"data/casos_covid_por_dia_colombia.csv\",sep=';')\n",
    "serie_nuevos_casos_por_dia = df_casos_covid[\"new_cases\"]\n",
    "ax = serie_nuevos_casos_por_dia.plot.hist(\n",
    "    title=\"Frecuencia de casos por día\"\n",
    ")"
   ]
  },
  {
   "cell_type": "markdown",
   "id": "14c2ce89-1704-40c6-a40f-a8db1ba753da",
   "metadata": {},
   "source": [
    "### Graficar un historgrama a partir de un dataframe\n",
    "\n",
    "Para graficar un histograma a partir de un dataframe, lo único que debemos hacer es llamar a cualquiera de los métodos `plot(kind=\"hist\",...)` o `plot.hist`. El método pintará la figura en pantalla y retornará el **eje de coordenadas** donde pintó las gráfica `ax`.\n",
    "\n",
    "**NOTE:**\n",
    "\n",
    "1. Sólo se pintaron las columnas numéricas.\n",
    "2. Todas se pintaron en la misma gráfica, por lo tanto hay 5 histogramas en la misma gráfica o **eje de coordenadas**. "
   ]
  },
  {
   "cell_type": "code",
   "execution_count": null,
   "id": "6174fd88-5c81-401f-8415-d9ae49883bd0",
   "metadata": {},
   "outputs": [],
   "source": [
    "# Ejecute el siguiente código.\n",
    "\n",
    "df_casos_covid = pd.read_csv(\"data/casos_covid_por_dia_colombia.csv\",sep=';')\n",
    "ax = df_casos_covid.plot.hist()"
   ]
  },
  {
   "cell_type": "markdown",
   "id": "809c747e-605a-4796-b4a8-e198f2fd19fb",
   "metadata": {},
   "source": [
    "Para pintar cada serie (columna) del dataframe en un **eje de coordenadas** distinto en la misma figura, debemos usar el parámetro `subplots`. De manera opcional podemos usar los parámetros `layout` y `figsize` para ajustar la gráfica. En este caso el método pintará la figura en pantalla y retornará un array de dos dimensiones donde cada elemento del array es un **eje de coordenadas**, uno por cada histograma."
   ]
  },
  {
   "cell_type": "code",
   "execution_count": null,
   "id": "8d9e2813-6799-4ead-9c0a-37ad0ad495d9",
   "metadata": {},
   "outputs": [],
   "source": [
    "# Ejecute el siguiente código.\n",
    "\n",
    "df_casos_covid = pd.read_csv(\"data/casos_covid_por_dia_colombia.csv\",sep=';')\n",
    "axs = df_casos_covid.plot.hist(subplots=True, layout=(3,3), figsize=(15,15))"
   ]
  },
  {
   "cell_type": "markdown",
   "id": "be25114b-c338-476b-814b-00415040637c",
   "metadata": {},
   "source": [
    "Ahora, si queremos personalizar únicamente uno de los **ejes de coordenadas**, debemos indexarlo en el array y luego podemos personalizarlo de forma individual."
   ]
  },
  {
   "cell_type": "code",
   "execution_count": null,
   "id": "7ba10b53-1968-43dd-9fed-7b88644cc0e7",
   "metadata": {},
   "outputs": [],
   "source": [
    "# Ejecute el siguiente código.\n",
    "\n",
    "df_casos_covid = pd.read_csv(\"data/casos_covid_por_dia_colombia.csv\",sep=';')\n",
    "axs = df_casos_covid.plot.hist(subplots=True, layout=(3,3), figsize=(15,15))\n",
    "\n",
    "eje_de_coordenadas = axs[1,1]\n",
    "eje_de_coordenadas.set_title(\"Taza de crecmiento del covid en Colombia\")"
   ]
  },
  {
   "cell_type": "markdown",
   "id": "f4a59019-ca9b-4af7-8369-653afcdc2f93",
   "metadata": {},
   "source": [
    "## 6. Graficar un diagrama de barras\n",
    "\n",
    "En los ejemplos anteriores estabamos analizando un archivo de casos de covid por día, únicamente para Colombia. Para este caso vamos a considerar el archivo de casos de covid por día para todo el mundo `casos_positivos_por_dia_mundo.csv`.\n",
    "\n",
    "El diagrama de barras permite comparar valores numéricos asociados a valores categóricos. Por ejemplo, si nos piden graficar el número maximo de casos de covid registrado por día para cada contiente; el nombre del continente \"Africa\", \"Asia\", \"Europa\", \"Norte America\", \"Oceania\", \"Subamerica\" es el **valor categorico** que esta asociado al maximo valor de casos registrado en cada continente.\n",
    "\n",
    "Primero vamos a cargar el archivo de casos positivos de covid registrados por día en el mundo `casos_positivos_por_dia_mundo.csv`."
   ]
  },
  {
   "cell_type": "code",
   "execution_count": null,
   "id": "36230b38-ff39-4b84-8bb1-d12ed69332f9",
   "metadata": {},
   "outputs": [],
   "source": [
    "# Ejecute el siguiente código.\n",
    "\n",
    "df_casos_covid_mundo = pd.read_csv(\"data/casos_covid_por_dia_mundo.csv\",sep=';')\n",
    "df_casos_covid_mundo"
   ]
  },
  {
   "cell_type": "markdown",
   "id": "5cbcede7-bbf2-4e05-b151-49b114361471",
   "metadata": {},
   "source": [
    "### Paso 1. Extraigo únicamente las columnas de interés del dataframe\n",
    "\n",
    "Como nos piden el número máximo de casos registrados por continente, necesitamos únicamente las columnas `continent` y `new_cases`."
   ]
  },
  {
   "cell_type": "code",
   "execution_count": null,
   "id": "ad8452c4-f0e4-4cb5-b484-67ffddd5df3b",
   "metadata": {},
   "outputs": [],
   "source": [
    "# Ejecute el siguiente código.\n",
    "\n",
    "df_casos_covid_mundo = pd.read_csv(\"data/casos_covid_por_dia_mundo.csv\",sep=';')\n",
    "df_interes = df_casos_covid_mundo[['continent','new_cases']]\n",
    "df_interes"
   ]
  },
  {
   "cell_type": "markdown",
   "id": "e838e1c0-c3c9-4868-b0c0-f76ae96f8f69",
   "metadata": {},
   "source": [
    "### Paso 2. Proceso los datos del dataframe\n",
    "\n",
    "Este paso consiste básicamente en procesar la información de modo que se facilite la generación de la gráfica a partir del dataframe.\n",
    "\n",
    "Como nos piden el número máximo de nuevos casos registados por continente, vamos a agrupar los datos del dataframe por continente."
   ]
  },
  {
   "cell_type": "code",
   "execution_count": null,
   "id": "84db612a-d29a-41cf-8d5b-d0b74905cb69",
   "metadata": {},
   "outputs": [],
   "source": [
    "# Ejecute el siguiente código.\n",
    "\n",
    "df_casos_covid_mundo = pd.read_csv(\"data/casos_covid_por_dia_mundo.csv\",sep=';')\n",
    "df_interes = df_casos_covid_mundo[['continent','new_cases']]\n",
    "\n",
    "df_por_continente = df_interes.groupby('continent')\n",
    "df_por_continente"
   ]
  },
  {
   "cell_type": "markdown",
   "id": "1c8c26af-64f3-4269-921a-860b0689a8c1",
   "metadata": {},
   "source": [
    "Ahora vamos a ver qué grupos quedaron"
   ]
  },
  {
   "cell_type": "code",
   "execution_count": null,
   "id": "ddb1bb3a-65b8-4155-8ae1-f9746550e7a0",
   "metadata": {},
   "outputs": [],
   "source": [
    "# Ejecute el siguiente código.\n",
    "\n",
    "df_casos_covid_mundo = pd.read_csv(\"data/casos_covid_por_dia_mundo.csv\",sep=';')\n",
    "df_interes = df_casos_covid_mundo[['continent','new_cases']]\n",
    "\n",
    "df_por_continente = df_interes.groupby('continent')\n",
    "\n",
    "for nombre, grupo in df_por_continente:\n",
    "    print(nombre, len(grupo))"
   ]
  },
  {
   "cell_type": "markdown",
   "id": "3ad3a939-a5c3-468a-9715-bfc2fe5a4286",
   "metadata": {},
   "source": [
    "Veamos la información de uno de los grupos para entender cómo está organizado"
   ]
  },
  {
   "cell_type": "code",
   "execution_count": null,
   "id": "8a0dc5da-10bd-4be1-af49-f26dbc8a2b02",
   "metadata": {},
   "outputs": [],
   "source": [
    "# Ejecute el siguiente código.\n",
    "\n",
    "df_casos_covid_mundo = pd.read_csv(\"data/casos_covid_por_dia_mundo.csv\",sep=';')\n",
    "df_interes = df_casos_covid_mundo[['continent','new_cases']]\n",
    "\n",
    "df_por_continente = df_interes.groupby('continent')\n",
    "\n",
    "grupo_africa = df_por_continente.get_group(\"Africa\")\n",
    "grupo_africa"
   ]
  },
  {
   "cell_type": "markdown",
   "id": "fd5e55aa-4087-489c-9ad2-1db9561d3ded",
   "metadata": {},
   "source": [
    "Una vez tenemos los datos agrupados por continente, podemos calcular el máximo número de casos nuevos de covid en cada continente (grupo) usando el método `max`."
   ]
  },
  {
   "cell_type": "code",
   "execution_count": null,
   "id": "4446e137-1d9c-4414-adce-8a311a52a681",
   "metadata": {},
   "outputs": [],
   "source": [
    "# Ejecute el siguiente código.\n",
    "\n",
    "df_casos_covid_mundo = pd.read_csv(\"data/casos_covid_por_dia_mundo.csv\",sep=';')\n",
    "df_interes = df_casos_covid_mundo[['continent','new_cases']]\n",
    "\n",
    "df_por_continente = df_interes.groupby('continent')\n",
    "\n",
    "df_maximos_por_continente = df_por_continente.max()\n",
    "df_maximos_por_continente"
   ]
  },
  {
   "cell_type": "markdown",
   "id": "46d96d97-11d0-4450-a7d8-a50965090e15",
   "metadata": {},
   "source": [
    "### Paso 3. Genero la visualización a partir del dataframe\n",
    "\n",
    "Luego de generar un dataframe con el número maximo de nuevos casos por contiente, podemos usar cualquier método  `plot(kind='bar')` o `plot.bar` para graficar."
   ]
  },
  {
   "cell_type": "code",
   "execution_count": null,
   "id": "512db129-82e9-4e3f-90e5-87c4367618e2",
   "metadata": {},
   "outputs": [],
   "source": [
    "# Ejecute el siguiente código.\n",
    "\n",
    "df_casos_covid_mundo = pd.read_csv(\"data/casos_covid_por_dia_mundo.csv\",sep=';')\n",
    "df_interes = df_casos_covid_mundo[['continent','new_cases']]\n",
    "\n",
    "df_por_continente = df_interes.groupby('continent')\n",
    "\n",
    "df_maximos_por_continente = df_por_continente.max()\n",
    "df_maximos_por_continente.plot.bar()"
   ]
  },
  {
   "cell_type": "markdown",
   "id": "ec97da25-dc23-49f0-afc8-e97990a3f97b",
   "metadata": {},
   "source": [
    "## 7. Graficar un diagrama de cajas\n",
    "\n",
    "El diagrama de cajas es un método de la estadística descriptiva que permite representar gráficamente una serie de datos a travez de sus cuartiles. El diagrama de cajas permite visuaizar la dispersión de los datos y los valores atípicos. En este caso en particular vamos a usar el conjunto de datos `100_casos_covid_colombia.csv`. \n",
    "\n",
    "En primera instancia, vamos a cargar el conjunto de datos a usar para realizar el diagrama de cajas."
   ]
  },
  {
   "cell_type": "code",
   "execution_count": null,
   "id": "73c8ff3b-004f-4fb0-a145-b7974a6e3fc2",
   "metadata": {},
   "outputs": [],
   "source": [
    "# Ejecute el siguiente código.\n",
    "\n",
    "df_casos_covid_colombia = pd.read_csv(\"data/100_casos_covid_colombia.csv\",sep=';')\n",
    "df_casos_covid_colombia"
   ]
  },
  {
   "cell_type": "markdown",
   "id": "679b6cd9-372e-450f-8e71-984416327754",
   "metadata": {},
   "source": [
    "### Graficar un diagrama de cajas a partir de una serie\n",
    "\n",
    "Para graficar el diagrama de cajas a partir de una serie lo primero que debemos hacer es obtener la serie de interés del dataframe. Posteriormente sobre la serie se invoca cualquiera de los métodos `plot.box` o `plot(kind='box')`."
   ]
  },
  {
   "cell_type": "code",
   "execution_count": null,
   "id": "ebbac29e-0e6f-4cb5-a5bc-6cd9114eaa25",
   "metadata": {},
   "outputs": [],
   "source": [
    "# Ejecute el siguiente código.\n",
    "\n",
    "df_casos_covid_colombia = pd.read_csv(\"data/100_casos_covid_colombia.csv\",sep=';')\n",
    "serie_edad = df_casos_covid_colombia['edad']\n",
    "serie_edad.plot.box()"
   ]
  },
  {
   "cell_type": "markdown",
   "id": "5bca1ef9-92a5-4ab7-875f-6ca1db9b66d0",
   "metadata": {},
   "source": [
    "### Graficar un diagrama de cajas a partir de un dataframe\n",
    "\n",
    "Para graficar un diagrama de cajas a partir de un dataframe, se debe invocar cualquiera de los métodos `plot.box`, `plot(kind='box')`, `boxplot()`. Note que el método `boxplot()` únicamente está disponible para los dataframes. Cuando se invoca alguno de los métodos mensioandos anteriormente partir de dataframe, se grafica el diagrama de cajas **únicamente para los datos númericos**.\n",
    "\n",
    "Grafiquemos el diagrama de cajas usando el método `plot.box`."
   ]
  },
  {
   "cell_type": "code",
   "execution_count": null,
   "id": "cfd6680d-49b2-40a0-8957-ebbec69589ba",
   "metadata": {},
   "outputs": [],
   "source": [
    "# Ejecute el siguiente código.\n",
    "\n",
    "df_casos_covid_colombia = pd.read_csv(\"data/100_casos_covid_colombia.csv\",sep=';')\n",
    "df_casos_covid_colombia.plot.box()"
   ]
  },
  {
   "cell_type": "markdown",
   "id": "d9de0cbb-bc4b-4f40-b54b-898811de815e",
   "metadata": {},
   "source": [
    "Ahora grafiquemos el diagrama de cajas usando el método `boxplot`."
   ]
  },
  {
   "cell_type": "code",
   "execution_count": null,
   "id": "20b59627-6021-4370-a0d4-7233fd40bb2e",
   "metadata": {},
   "outputs": [],
   "source": [
    "# Ejecute el siguiente código.\n",
    "\n",
    "df_casos_covid_colombia = pd.read_csv(\"data/100_casos_covid_colombia.csv\",sep=';')\n",
    "df_casos_covid_colombia.boxplot()"
   ]
  },
  {
   "cell_type": "markdown",
   "id": "719b4aa5-d388-4ddb-9ee6-3d29aa66dbbc",
   "metadata": {},
   "source": [
    "### Graficar un diagrama de cajas a partir de un dataframe agrupando datos\n",
    "\n",
    "A diferencia del método `plot.box`, el método `boxplot` permite hacer un diagrama de cajas con datos agrupados por un criterio. A continuación vamos a mostrar el diagrama de cajas para la columna edad agrupada por departamentos."
   ]
  },
  {
   "cell_type": "code",
   "execution_count": null,
   "id": "af98a1f1-ecb8-4cbd-9361-303c692715e8",
   "metadata": {},
   "outputs": [],
   "source": [
    "df_casos_covid_colombia = pd.read_csv(\"data/100_casos_covid_colombia.csv\",sep=';')\n",
    "\n",
    "# Recuerde que cuando invocamos a alguno de los método 'plot.box' o 'boxplot'\n",
    "# el método retorna el eje de coordenadas donde se pintó la figura.\n",
    "# Esto nos permite personalizar tanto el eje de coordenadas como la figura.\n",
    "ax = df_casos_covid_colombia.boxplot(\n",
    "    column='edad', by='nombre_departamento', \n",
    "    rot=90, figsize=(10,8)\n",
    ")\n",
    "\n",
    "# Obtenemos la figura a partir de eje de coordenadas\n",
    "fig = ax.get_figure()\n",
    "\n",
    "# Configuramos el título del eje de coordenadas\n",
    "ax.set_title(\"Diagrama de Caja Datos Agrupados\")\n",
    "ax.set_xlabel(\"Nombre del departamento\")\n",
    "ax.set_ylabel(\"Edad (Años)\")\n",
    "# Eliminamos el título de la figura que se crea por defecto\n",
    "fig.suptitle(\"\")"
   ]
  }
 ],
 "metadata": {
  "kernelspec": {
   "display_name": "Python 3 (ipykernel)",
   "language": "python",
   "name": "python3"
  },
  "language_info": {
   "codemirror_mode": {
    "name": "ipython",
    "version": 3
   },
   "file_extension": ".py",
   "mimetype": "text/x-python",
   "name": "python",
   "nbconvert_exporter": "python",
   "pygments_lexer": "ipython3",
   "version": "3.11.5"
  }
 },
 "nbformat": 4,
 "nbformat_minor": 5
}
