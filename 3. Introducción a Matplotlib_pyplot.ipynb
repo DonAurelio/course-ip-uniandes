{
 "cells": [
  {
   "cell_type": "markdown",
   "metadata": {},
   "source": [
    "# Introducción a Matplotlib (pyplot)\n",
    "\n",
    "**Introducción**\n",
    "\n",
    "Matplotlib es una librería (o módulo) para el lenguaje de programación Python que facilita la creación y manipulación de **gráficas** e **imagenes**. Esta librería cuenta principalmente con dos submódulos `pyplot` y `image`. El primer submódulo tiene funciones que facilitan el proceso de creación y manipulación de gráficas. El segundo cuenta con funciones que facilitan el procesamiento de imágenes. En esta ocasión nos enfocarémos en el módulo de creación y manipulación de gráficos.\n",
    "\n",
    "![image.png](src/anatomy.webp)\n",
    "\n",
    "Dado que la librería cuenta con más de 100 funciones para la manipulación de gráficas e imágenes, los desarrolladores tienden a apreder lo básico y hacer uso de forma frecuente de la documentación, ejemplos y tutoriales para la construcción de gráficas y manipulación de imagenes que requieren aspectos avanzados. A continuación se presentan los enlaces de la documentación, ejemplos y tutoriales.\n",
    "\n",
    "**Referencias:**\n",
    "\n",
    "1. Ejemplos https://matplotlib.org/stable/gallery/index.html\n",
    "2. Tutoriales https://matplotlib.org/stable/tutorials/index\n",
    "3. Documentación https://matplotlib.org/stable/api/index.html\n",
    "\n",
    "**Contenido**\n",
    "\n",
    "1. [Importar la librería matplotlib.pyplot](#1.-Importar-la-librería-matplotlib.pyplot)\n",
    "2. [Creación de una figura de un solo eje](#2.-Creación-de-una-figura-de-un-solo-eje)\n",
    "3. [Graficar en una figura de un solo eje](#3.-Graficar-en-una-figura-de-un-solo-eje)\n",
    "4. [Múltiples gráficas en una figura de un solo eje](#4.-Múltiples-gráficas-en-una-figura-de-un-solo-eje)\n",
    "5. [Creación de una figura de múltiples ejes](#5.-Creación-de-una-figura-de-múltiples-ejes)\n",
    "6. [Ingresar datos en una figura de múltiples ejes](#6.-Ingresar-datos-en-una-figura-de-múltiples-ejes)\n",
    "7. [Ingresar datos en una figura de múltiples ejes en forma de grilla](#7.-Ingresar-datos-en-una-figura-de-múltiples-ejes-en-forma-de-grilla)\n",
    "8. [Configurar títulos y etiquetas en una figura de múltiples ejes en forma de grilla](#8.-Configurar-títulos-y-etiquetas-en-una-figura-de-múltiples-ejes-en-forma-de-grilla)"
   ]
  },
  {
   "cell_type": "markdown",
   "metadata": {},
   "source": [
    "## 1. Importar la librería matplotlib.pyplot\n",
    "\n",
    "La librería `matplotlib` cuenta con un submódulo para la manipulación de gráficos llamado `pyplot`, dado que estamos interesados en crear y manipular gráficos, debemos importar el submódulo como se muestra a continuación.\n",
    "\n",
    "Por otro lado, importamos la librería `numpy` que nos va a permitir generar los datos científicos que deseamos graficar."
   ]
  },
  {
   "cell_type": "code",
   "execution_count": null,
   "metadata": {},
   "outputs": [],
   "source": [
    "import matplotlib.pyplot as plt\n",
    "import numpy as np"
   ]
  },
  {
   "cell_type": "markdown",
   "metadata": {},
   "source": [
    "## 2. Creación de una figura de un solo eje\n",
    "\n",
    "Una figura se compone de ejes, es decir, una figura puede contener uno o más ejes. La función `subplots()` permite crear una figura con un solo eje, como se muestra a continuación.\n"
   ]
  },
  {
   "cell_type": "code",
   "execution_count": null,
   "metadata": {},
   "outputs": [],
   "source": [
    "fig, ax = plt.subplots()"
   ]
  },
  {
   "cell_type": "markdown",
   "metadata": {},
   "source": [
    "## 3. Graficar en una figura de un solo eje\n",
    "\n",
    "La función `subplots()` retorna una tupla cuyos elementos son: un objeto que representa la figura `fig` y un objeto que representa el eje en la figura `ax`.\n",
    "\n",
    "Las gráficas deben ser pintadas sobre el eje de la figura. Podemos usar el objeto eje `ax` para pintar un **gráfico de linea** como se muestra a continuación, usando el método `plot`, este método recibe los valores de las coordenadas `x` e `y` que se desean graficar."
   ]
  },
  {
   "cell_type": "code",
   "execution_count": null,
   "metadata": {},
   "outputs": [],
   "source": [
    "fig, ax = plt.subplots()\n",
    "\n",
    "x = [1, 2, 3, 4]\n",
    "y = [1, 4, 2, 3]\n",
    "\n",
    "ax.plot(x,y)\n",
    "\n",
    "fig, ax = plt.subplots()\n",
    "\n",
    "x = [1, 2, 3, 4]\n",
    "y = [1, 4, 2, 3]\n",
    "\n",
    "ax.bar(x,y)\n",
    "\n",
    "\n",
    "fig, ax = plt.subplots()\n",
    "\n",
    "x = [1, 2, 3, 4]\n",
    "y = [1, 4, 2, 3]\n",
    "\n",
    "ax.scatter(x,y)"
   ]
  },
  {
   "cell_type": "markdown",
   "metadata": {},
   "source": [
    "> **TODO:**  Use el código anterior para pintar un gráfico de barras, usando el método `bar`, este método recibe los valores de las coordenadas `x` e `y` que se desean graficar.\n",
    "\n",
    "> **TODO:**  Use el código anterior para pintar un gráfico de dispersión, usando el método `scatter`, este método recibe los valores de las coordenadas `x` e `y` que se desean graficar."
   ]
  },
  {
   "cell_type": "markdown",
   "metadata": {},
   "source": [
    "## 4. Múltiples gráficas en una figura de un solo eje\n",
    "\n",
    "Cuando se requiere comparar tendencias, se hace necesario pintar las gráficas a comparar en el mismo eje, esto con el fin de facilitar la comparación. A continuación se muestra un ejemplo de cómo se logra pintar varias gráficas en el mismo eje."
   ]
  },
  {
   "cell_type": "code",
   "execution_count": null,
   "metadata": {},
   "outputs": [],
   "source": [
    "# Generar un array de datos\n",
    "x = np.linspace(0, 2, 100)  \n",
    "\n",
    "# Crear una figura de un eje con dimensiones 5 de ancho y 2.7 de alto.\n",
    "fig, ax = plt.subplots(figsize=(5, 2.7))\n",
    "\n",
    "# Pintar una gráfica en el eje con la etiqueta \"linear\".\n",
    "ax.plot(x, x, label='linear')\n",
    "\n",
    "# Pintar una gráfica en el eje con la etiqueta \"quadratic\"\n",
    "ax.plot(x, x**2, label='quadratic')  \n",
    "\n",
    "# Pintar una gráfica en el eje con la etiqueta \"cubic\"\n",
    "ax.plot(x, x**3, label='cubic')  # ... and some more.\n",
    "\n",
    "# Adicionar una etiqueta al eje-x\n",
    "ax.set_xlabel('x label')\n",
    "\n",
    "# Adicionar una etiqueta al eje-y\n",
    "ax.set_ylabel('y label')\n",
    "ax.set_title(\"Simple Plot\")\n",
    "\n",
    "ax.legend();  # Add a legend."
   ]
  },
  {
   "cell_type": "markdown",
   "metadata": {},
   "source": [
    "> **TODO:**  Use el código anterior como guía para graficar la función seno y la función coseno en el mismo eje de la figura. Puede usar `x = np.linspace(-np.pi, np.pi, 256)` para generar los datos del eje x y las funciones `np.sin` y `np.cos` para obtener el seno y el coseno cada valor de x respectivamente. Asigne una etiqueta a los ejes (eje-x y eje-y) y un título."
   ]
  },
  {
   "cell_type": "markdown",
   "metadata": {},
   "source": [
    "## 5. Creación de una figura de múltiples ejes\n",
    "\n",
    "Otra forma de comparar información o hacer una vista general del varios gráficos relacionados, es mediante el uso de múltiples ejes, como se muestra en la figura. Para definir múltiples ejes en la misma figura, debemos usar la función `subplot` con algunos parámetros adicionales que indiquen: (1) de que forma queremos desplegar las gráficas (vertical o horizontal) y (2) cuántas gráficas deseamos desplegar. Así mismo, podemos configurar el tamaño de toda la figura.\n",
    "\n",
    "![image.png](src/figura_multi_eje.png)"
   ]
  },
  {
   "cell_type": "markdown",
   "metadata": {},
   "source": [
    "A continuación se crea una figura con 3 ejes desplegados de forma horizontal."
   ]
  },
  {
   "cell_type": "code",
   "execution_count": null,
   "metadata": {},
   "outputs": [],
   "source": [
    "fig, axs = plt.subplots(1,3,figsize=(9, 3))"
   ]
  },
  {
   "cell_type": "markdown",
   "metadata": {},
   "source": [
    "A continuación se crea una figura con 3 ejes desplegados de forma vertical."
   ]
  },
  {
   "cell_type": "code",
   "execution_count": null,
   "metadata": {},
   "outputs": [],
   "source": [
    "fig, axs = plt.subplots(3,1,figsize=(3, 9))"
   ]
  },
  {
   "cell_type": "markdown",
   "metadata": {},
   "source": [
    "Así mismo podemos crea figura cuyas gráficas se desplegan en forma de matriz o grilla."
   ]
  },
  {
   "cell_type": "code",
   "execution_count": null,
   "metadata": {},
   "outputs": [],
   "source": [
    "fig, axs = plt.subplots(3,3,figsize=(9, 9))"
   ]
  },
  {
   "cell_type": "markdown",
   "metadata": {},
   "source": [
    "## 6. Ingresar datos en una figura de múltiples ejes\n",
    "\n",
    "Cuando se crea una figura con múltiples ejes, la función `subplots` retorna un objeto que representa la figura `fig` y un **array** de ejes `axs`. De tal forma que si deseamos manipular un eje en particular, debemos obtener cada eje del *array*."
   ]
  },
  {
   "cell_type": "code",
   "execution_count": null,
   "metadata": {},
   "outputs": [],
   "source": [
    "fig, axs = plt.subplots(1,3,figsize=(15, 5))\n",
    "\n",
    "data = {'apple': 10, 'orange': 15, 'lemon': 5, 'lime': 20}\n",
    "names = list(data.keys())\n",
    "values = list(data.values())\n",
    "\n",
    "ax_0 = axs[0]\n",
    "ax_1 = axs[1]\n",
    "ax_2 = axs[2]\n",
    "\n",
    "ax_0.bar(names,values)\n",
    "ax_1.scatter(names,values)\n",
    "ax_2.plot(names,values)"
   ]
  },
  {
   "cell_type": "markdown",
   "metadata": {},
   "source": [
    "> **TODO:**  Use el código anterior para pintar la misma figura con tres gráficas, pero en este caso las gráficas deben estar desplegadas de forma vertical."
   ]
  },
  {
   "cell_type": "markdown",
   "metadata": {},
   "source": [
    "## 7. Ingresar datos en una figura de múltiples ejes en forma de grilla\n",
    "\n",
    "Otra forma de presentar las gráficas en la misma figura es mediante el uso de ejes ordenados en forma de grilla. En este caso, la función `subplots` retorna un objeto que representa la figura `fig` y un array de dos dimensiones `axs`. Dado que los ejes se encuentran organizados en forma de matriz, así mismo deben ser obtenidos para su posterior manipulación."
   ]
  },
  {
   "cell_type": "code",
   "execution_count": null,
   "metadata": {},
   "outputs": [],
   "source": [
    "fig, axs = plt.subplots(2,2,figsize=(15, 8))\n",
    "\n",
    "data = {'apple': 10, 'orange': 15, 'lemon': 5, 'lime': 20}\n",
    "names = list(data.keys())\n",
    "values = list(data.values())\n",
    "\n",
    "ax_0_0 = axs[0,0]\n",
    "ax_0_1 = axs[0,1]\n",
    "ax_1_0 = axs[1,0]\n",
    "ax_1_1 = axs[1,1]\n",
    "\n",
    "ax_0_0.bar(names,values)\n",
    "ax_0_1.scatter(names,values)\n",
    "ax_1_0.plot(names,values)"
   ]
  },
  {
   "cell_type": "markdown",
   "metadata": {},
   "source": [
    "## 8. Configurar títulos y etiquetas en una figura de múltiples ejes en forma de grilla"
   ]
  },
  {
   "cell_type": "markdown",
   "metadata": {},
   "source": [
    "Finalmente, podemos personalizar tanto el título de la figura como los títulos de cada eje de forma independiente."
   ]
  },
  {
   "cell_type": "code",
   "execution_count": null,
   "metadata": {},
   "outputs": [],
   "source": [
    "fig, axs = plt.subplots(2,2,figsize=(15, 8))\n",
    "\n",
    "data = {'apple': 10, 'orange': 15, 'lemon': 5, 'lime': 20}\n",
    "names = list(data.keys())\n",
    "values = list(data.values())\n",
    "\n",
    "ax_0_0 = axs[0,0]\n",
    "ax_0_1 = axs[0,1]\n",
    "ax_1_0 = axs[1,0]\n",
    "ax_1_1 = axs[1,1]\n",
    "\n",
    "ax_0_0.bar(names,values)\n",
    "ax_0_1.scatter(names,values)\n",
    "ax_1_0.plot(names,values)\n",
    "\n",
    "# Configurar título de la figura\n",
    "fig.suptitle(\"Ejemplos Gráficas en Matplotlib\",fontsize=16)\n",
    "\n",
    "# Configurar título de los ejes\n",
    "ax_0_0.set_title(\"Gráficos de barras\")"
   ]
  },
  {
   "cell_type": "markdown",
   "metadata": {},
   "source": [
    "> **TODO:** Complete el código anterior: (1) asigne un título a cada eje; (2) asíne una etiqueta-x y etiqueta-y para cada uno de los ejes.(3) grafique las funciones seno y coseno en el eje de la figura que se encuentra vacío, asigne título y etiquetas x e y para dicho eje."
   ]
  }
 ],
 "metadata": {
  "kernelspec": {
   "display_name": "Python 3 (ipykernel)",
   "language": "python",
   "name": "python3"
  },
  "language_info": {
   "codemirror_mode": {
    "name": "ipython",
    "version": 3
   },
   "file_extension": ".py",
   "mimetype": "text/x-python",
   "name": "python",
   "nbconvert_exporter": "python",
   "pygments_lexer": "ipython3",
   "version": "3.11.5"
  }
 },
 "nbformat": 4,
 "nbformat_minor": 4
}
